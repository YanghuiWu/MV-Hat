{
 "cells": [
  {
   "cell_type": "code",
   "execution_count": 1,
   "outputs": [],
   "source": [
    "import torchvision.models as models\n",
    "import torch\n",
    "import torch.nn as nn\n",
    "import torch.optim as optim\n",
    "import time\n",
    "\n",
    "from matplotlib import pyplot as plt\n",
    "from torchvision import datasets, transforms as trans\n",
    "from torch.utils.data import DataLoader\n",
    "from pytorch_dataset import HatsDataset\n",
    "from tqdm.notebook import tqdm"
   ],
   "metadata": {
    "collapsed": false,
    "pycharm": {
     "name": "#%%\n"
    }
   }
  },
  {
   "cell_type": "code",
   "execution_count": 2,
   "outputs": [
    {
     "data": {
      "text/plain": "'Checkpoints/Res50 16B 40eP HatsOnly.pt'"
     },
     "execution_count": 2,
     "metadata": {},
     "output_type": "execute_result"
    }
   ],
   "source": [
    "in_channel = 3\n",
    "num_class = 15\n",
    "learning_rate = 1e-4\n",
    "batch_size = 16\n",
    "num_epochs = 50\n",
    "\n",
    "reload = \"\"\n",
    "'Checkpoints/Res50 16B 40eP HatsOnly.pt'"
   ],
   "metadata": {
    "collapsed": false,
    "pycharm": {
     "name": "#%%\n"
    }
   }
  },
  {
   "cell_type": "code",
   "execution_count": 3,
   "outputs": [
    {
     "name": "stdout",
     "output_type": "stream",
     "text": [
      "1639\n"
     ]
    }
   ],
   "source": [
    "device = torch.device('cuda' if torch.cuda.is_available() else 'cpu')\n",
    "# transform = trans.Compose(\n",
    "#     [trans.Resize(256), trans.CenterCrop(224), trans.PILToTensor(), trans.ConvertImageDtype(torch.float)])\n",
    "# dataset = datasets.ImageNet(\".\", split=\"train\", transform=transform)\n",
    "transform = trans.Compose([\n",
    "    trans.ToTensor(),\n",
    "    trans.RandomCrop(256, padding=3, padding_mode='constant'),\n",
    "    trans.RandomHorizontalFlip(),\n",
    "\n",
    "    trans.Normalize(mean=[0.485, 0.456, 0.406], std=[0.229, 0.224, 0.225]),\n",
    "])\n",
    "\n",
    "subject = 'HumanOnly'\n",
    "dataset = HatsDataset(csv_file='FinalData/' + subject + '.csv',\n",
    "                      root_dir='FinalData/' + subject,\n",
    "                      transform=transform)  #8778\n",
    "\n",
    "print(len(dataset))\n",
    "\n",
    "# transform = torchvision.transforms.Compose([torchvision.transforms.ToTensor()])\n",
    "divider = round(len(dataset) * 0.8)\n",
    "train_set, test_set = torch.utils.data.random_split(dataset, [divider, len(dataset) - divider])\n",
    "train_loader = torch.utils.data.DataLoader(train_set, batch_size=batch_size, shuffle=True, num_workers=2)\n",
    "test_loader = torch.utils.data.DataLoader(test_set, batch_size=batch_size, shuffle=False, num_workers=2)\n",
    "\n",
    "refresh_rate = round(divider / batch_size / 4)\n",
    "\n",
    "classes = ('baseballcap', 'BikeHelmet', 'BucketHat', 'CowboyHat',\n",
    "           'FeltHat', 'FireFighterHat', 'FlatCap', 'GraduationCap', 'Heaterhat', 'MilitaryHelmet',\n",
    "           'MotorCycle Helmet', 'Police Hat', 'SateftyHelmet', 'TopHat', 'beanie')"
   ],
   "metadata": {
    "collapsed": false,
    "pycharm": {
     "name": "#%%\n"
    }
   }
  },
  {
   "cell_type": "code",
   "execution_count": 4,
   "outputs": [],
   "source": [
    "# net = resnet50()\n",
    "model_name = \"Trans_\" + \"resnet50\"\n",
    "model = models.resnet50(pretrained=True)\n",
    "criterion = nn.CrossEntropyLoss()\n",
    "optimizer = optim.SGD(model.parameters(), lr=learning_rate, momentum=0.9)\n",
    "losses = []\n",
    "model\n",
    "model.fc = nn.Linear(model.fc.in_features, num_class)"
   ],
   "metadata": {
    "collapsed": false,
    "pycharm": {
     "name": "#%%\n"
    }
   }
  },
  {
   "cell_type": "code",
   "execution_count": 5,
   "outputs": [],
   "source": [
    "if reload:\n",
    "    path = reload\n",
    "    checkpoint = torch.load(path)\n",
    "\n",
    "    model.load_state_dict(checkpoint['model_state_dict'])\n",
    "    optimizer.load_state_dict(checkpoint['optimizer_state_dict'])\n",
    "    ep = checkpoint['epoch']\n",
    "    losses = checkpoint['losses']\n",
    "\n",
    "    # train_set = checkpoint['train_set']\n",
    "    # test_set = checkpoint['test_set']\n",
    "    # train_loader = checkpoint['train_loader']\n",
    "    # test_loader = checkpoint['test_loader']"
   ],
   "metadata": {
    "collapsed": false,
    "pycharm": {
     "name": "#%%\n"
    }
   }
  },
  {
   "cell_type": "code",
   "execution_count": 6,
   "outputs": [
    {
     "data": {
      "text/plain": "ResNet(\n  (conv1): Conv2d(3, 64, kernel_size=(7, 7), stride=(2, 2), padding=(3, 3), bias=False)\n  (bn1): BatchNorm2d(64, eps=1e-05, momentum=0.1, affine=True, track_running_stats=True)\n  (relu): ReLU(inplace=True)\n  (maxpool): MaxPool2d(kernel_size=3, stride=2, padding=1, dilation=1, ceil_mode=False)\n  (layer1): Sequential(\n    (0): Bottleneck(\n      (conv1): Conv2d(64, 64, kernel_size=(1, 1), stride=(1, 1), bias=False)\n      (bn1): BatchNorm2d(64, eps=1e-05, momentum=0.1, affine=True, track_running_stats=True)\n      (conv2): Conv2d(64, 64, kernel_size=(3, 3), stride=(1, 1), padding=(1, 1), bias=False)\n      (bn2): BatchNorm2d(64, eps=1e-05, momentum=0.1, affine=True, track_running_stats=True)\n      (conv3): Conv2d(64, 256, kernel_size=(1, 1), stride=(1, 1), bias=False)\n      (bn3): BatchNorm2d(256, eps=1e-05, momentum=0.1, affine=True, track_running_stats=True)\n      (relu): ReLU(inplace=True)\n      (downsample): Sequential(\n        (0): Conv2d(64, 256, kernel_size=(1, 1), stride=(1, 1), bias=False)\n        (1): BatchNorm2d(256, eps=1e-05, momentum=0.1, affine=True, track_running_stats=True)\n      )\n    )\n    (1): Bottleneck(\n      (conv1): Conv2d(256, 64, kernel_size=(1, 1), stride=(1, 1), bias=False)\n      (bn1): BatchNorm2d(64, eps=1e-05, momentum=0.1, affine=True, track_running_stats=True)\n      (conv2): Conv2d(64, 64, kernel_size=(3, 3), stride=(1, 1), padding=(1, 1), bias=False)\n      (bn2): BatchNorm2d(64, eps=1e-05, momentum=0.1, affine=True, track_running_stats=True)\n      (conv3): Conv2d(64, 256, kernel_size=(1, 1), stride=(1, 1), bias=False)\n      (bn3): BatchNorm2d(256, eps=1e-05, momentum=0.1, affine=True, track_running_stats=True)\n      (relu): ReLU(inplace=True)\n    )\n    (2): Bottleneck(\n      (conv1): Conv2d(256, 64, kernel_size=(1, 1), stride=(1, 1), bias=False)\n      (bn1): BatchNorm2d(64, eps=1e-05, momentum=0.1, affine=True, track_running_stats=True)\n      (conv2): Conv2d(64, 64, kernel_size=(3, 3), stride=(1, 1), padding=(1, 1), bias=False)\n      (bn2): BatchNorm2d(64, eps=1e-05, momentum=0.1, affine=True, track_running_stats=True)\n      (conv3): Conv2d(64, 256, kernel_size=(1, 1), stride=(1, 1), bias=False)\n      (bn3): BatchNorm2d(256, eps=1e-05, momentum=0.1, affine=True, track_running_stats=True)\n      (relu): ReLU(inplace=True)\n    )\n  )\n  (layer2): Sequential(\n    (0): Bottleneck(\n      (conv1): Conv2d(256, 128, kernel_size=(1, 1), stride=(1, 1), bias=False)\n      (bn1): BatchNorm2d(128, eps=1e-05, momentum=0.1, affine=True, track_running_stats=True)\n      (conv2): Conv2d(128, 128, kernel_size=(3, 3), stride=(2, 2), padding=(1, 1), bias=False)\n      (bn2): BatchNorm2d(128, eps=1e-05, momentum=0.1, affine=True, track_running_stats=True)\n      (conv3): Conv2d(128, 512, kernel_size=(1, 1), stride=(1, 1), bias=False)\n      (bn3): BatchNorm2d(512, eps=1e-05, momentum=0.1, affine=True, track_running_stats=True)\n      (relu): ReLU(inplace=True)\n      (downsample): Sequential(\n        (0): Conv2d(256, 512, kernel_size=(1, 1), stride=(2, 2), bias=False)\n        (1): BatchNorm2d(512, eps=1e-05, momentum=0.1, affine=True, track_running_stats=True)\n      )\n    )\n    (1): Bottleneck(\n      (conv1): Conv2d(512, 128, kernel_size=(1, 1), stride=(1, 1), bias=False)\n      (bn1): BatchNorm2d(128, eps=1e-05, momentum=0.1, affine=True, track_running_stats=True)\n      (conv2): Conv2d(128, 128, kernel_size=(3, 3), stride=(1, 1), padding=(1, 1), bias=False)\n      (bn2): BatchNorm2d(128, eps=1e-05, momentum=0.1, affine=True, track_running_stats=True)\n      (conv3): Conv2d(128, 512, kernel_size=(1, 1), stride=(1, 1), bias=False)\n      (bn3): BatchNorm2d(512, eps=1e-05, momentum=0.1, affine=True, track_running_stats=True)\n      (relu): ReLU(inplace=True)\n    )\n    (2): Bottleneck(\n      (conv1): Conv2d(512, 128, kernel_size=(1, 1), stride=(1, 1), bias=False)\n      (bn1): BatchNorm2d(128, eps=1e-05, momentum=0.1, affine=True, track_running_stats=True)\n      (conv2): Conv2d(128, 128, kernel_size=(3, 3), stride=(1, 1), padding=(1, 1), bias=False)\n      (bn2): BatchNorm2d(128, eps=1e-05, momentum=0.1, affine=True, track_running_stats=True)\n      (conv3): Conv2d(128, 512, kernel_size=(1, 1), stride=(1, 1), bias=False)\n      (bn3): BatchNorm2d(512, eps=1e-05, momentum=0.1, affine=True, track_running_stats=True)\n      (relu): ReLU(inplace=True)\n    )\n    (3): Bottleneck(\n      (conv1): Conv2d(512, 128, kernel_size=(1, 1), stride=(1, 1), bias=False)\n      (bn1): BatchNorm2d(128, eps=1e-05, momentum=0.1, affine=True, track_running_stats=True)\n      (conv2): Conv2d(128, 128, kernel_size=(3, 3), stride=(1, 1), padding=(1, 1), bias=False)\n      (bn2): BatchNorm2d(128, eps=1e-05, momentum=0.1, affine=True, track_running_stats=True)\n      (conv3): Conv2d(128, 512, kernel_size=(1, 1), stride=(1, 1), bias=False)\n      (bn3): BatchNorm2d(512, eps=1e-05, momentum=0.1, affine=True, track_running_stats=True)\n      (relu): ReLU(inplace=True)\n    )\n  )\n  (layer3): Sequential(\n    (0): Bottleneck(\n      (conv1): Conv2d(512, 256, kernel_size=(1, 1), stride=(1, 1), bias=False)\n      (bn1): BatchNorm2d(256, eps=1e-05, momentum=0.1, affine=True, track_running_stats=True)\n      (conv2): Conv2d(256, 256, kernel_size=(3, 3), stride=(2, 2), padding=(1, 1), bias=False)\n      (bn2): BatchNorm2d(256, eps=1e-05, momentum=0.1, affine=True, track_running_stats=True)\n      (conv3): Conv2d(256, 1024, kernel_size=(1, 1), stride=(1, 1), bias=False)\n      (bn3): BatchNorm2d(1024, eps=1e-05, momentum=0.1, affine=True, track_running_stats=True)\n      (relu): ReLU(inplace=True)\n      (downsample): Sequential(\n        (0): Conv2d(512, 1024, kernel_size=(1, 1), stride=(2, 2), bias=False)\n        (1): BatchNorm2d(1024, eps=1e-05, momentum=0.1, affine=True, track_running_stats=True)\n      )\n    )\n    (1): Bottleneck(\n      (conv1): Conv2d(1024, 256, kernel_size=(1, 1), stride=(1, 1), bias=False)\n      (bn1): BatchNorm2d(256, eps=1e-05, momentum=0.1, affine=True, track_running_stats=True)\n      (conv2): Conv2d(256, 256, kernel_size=(3, 3), stride=(1, 1), padding=(1, 1), bias=False)\n      (bn2): BatchNorm2d(256, eps=1e-05, momentum=0.1, affine=True, track_running_stats=True)\n      (conv3): Conv2d(256, 1024, kernel_size=(1, 1), stride=(1, 1), bias=False)\n      (bn3): BatchNorm2d(1024, eps=1e-05, momentum=0.1, affine=True, track_running_stats=True)\n      (relu): ReLU(inplace=True)\n    )\n    (2): Bottleneck(\n      (conv1): Conv2d(1024, 256, kernel_size=(1, 1), stride=(1, 1), bias=False)\n      (bn1): BatchNorm2d(256, eps=1e-05, momentum=0.1, affine=True, track_running_stats=True)\n      (conv2): Conv2d(256, 256, kernel_size=(3, 3), stride=(1, 1), padding=(1, 1), bias=False)\n      (bn2): BatchNorm2d(256, eps=1e-05, momentum=0.1, affine=True, track_running_stats=True)\n      (conv3): Conv2d(256, 1024, kernel_size=(1, 1), stride=(1, 1), bias=False)\n      (bn3): BatchNorm2d(1024, eps=1e-05, momentum=0.1, affine=True, track_running_stats=True)\n      (relu): ReLU(inplace=True)\n    )\n    (3): Bottleneck(\n      (conv1): Conv2d(1024, 256, kernel_size=(1, 1), stride=(1, 1), bias=False)\n      (bn1): BatchNorm2d(256, eps=1e-05, momentum=0.1, affine=True, track_running_stats=True)\n      (conv2): Conv2d(256, 256, kernel_size=(3, 3), stride=(1, 1), padding=(1, 1), bias=False)\n      (bn2): BatchNorm2d(256, eps=1e-05, momentum=0.1, affine=True, track_running_stats=True)\n      (conv3): Conv2d(256, 1024, kernel_size=(1, 1), stride=(1, 1), bias=False)\n      (bn3): BatchNorm2d(1024, eps=1e-05, momentum=0.1, affine=True, track_running_stats=True)\n      (relu): ReLU(inplace=True)\n    )\n    (4): Bottleneck(\n      (conv1): Conv2d(1024, 256, kernel_size=(1, 1), stride=(1, 1), bias=False)\n      (bn1): BatchNorm2d(256, eps=1e-05, momentum=0.1, affine=True, track_running_stats=True)\n      (conv2): Conv2d(256, 256, kernel_size=(3, 3), stride=(1, 1), padding=(1, 1), bias=False)\n      (bn2): BatchNorm2d(256, eps=1e-05, momentum=0.1, affine=True, track_running_stats=True)\n      (conv3): Conv2d(256, 1024, kernel_size=(1, 1), stride=(1, 1), bias=False)\n      (bn3): BatchNorm2d(1024, eps=1e-05, momentum=0.1, affine=True, track_running_stats=True)\n      (relu): ReLU(inplace=True)\n    )\n    (5): Bottleneck(\n      (conv1): Conv2d(1024, 256, kernel_size=(1, 1), stride=(1, 1), bias=False)\n      (bn1): BatchNorm2d(256, eps=1e-05, momentum=0.1, affine=True, track_running_stats=True)\n      (conv2): Conv2d(256, 256, kernel_size=(3, 3), stride=(1, 1), padding=(1, 1), bias=False)\n      (bn2): BatchNorm2d(256, eps=1e-05, momentum=0.1, affine=True, track_running_stats=True)\n      (conv3): Conv2d(256, 1024, kernel_size=(1, 1), stride=(1, 1), bias=False)\n      (bn3): BatchNorm2d(1024, eps=1e-05, momentum=0.1, affine=True, track_running_stats=True)\n      (relu): ReLU(inplace=True)\n    )\n  )\n  (layer4): Sequential(\n    (0): Bottleneck(\n      (conv1): Conv2d(1024, 512, kernel_size=(1, 1), stride=(1, 1), bias=False)\n      (bn1): BatchNorm2d(512, eps=1e-05, momentum=0.1, affine=True, track_running_stats=True)\n      (conv2): Conv2d(512, 512, kernel_size=(3, 3), stride=(2, 2), padding=(1, 1), bias=False)\n      (bn2): BatchNorm2d(512, eps=1e-05, momentum=0.1, affine=True, track_running_stats=True)\n      (conv3): Conv2d(512, 2048, kernel_size=(1, 1), stride=(1, 1), bias=False)\n      (bn3): BatchNorm2d(2048, eps=1e-05, momentum=0.1, affine=True, track_running_stats=True)\n      (relu): ReLU(inplace=True)\n      (downsample): Sequential(\n        (0): Conv2d(1024, 2048, kernel_size=(1, 1), stride=(2, 2), bias=False)\n        (1): BatchNorm2d(2048, eps=1e-05, momentum=0.1, affine=True, track_running_stats=True)\n      )\n    )\n    (1): Bottleneck(\n      (conv1): Conv2d(2048, 512, kernel_size=(1, 1), stride=(1, 1), bias=False)\n      (bn1): BatchNorm2d(512, eps=1e-05, momentum=0.1, affine=True, track_running_stats=True)\n      (conv2): Conv2d(512, 512, kernel_size=(3, 3), stride=(1, 1), padding=(1, 1), bias=False)\n      (bn2): BatchNorm2d(512, eps=1e-05, momentum=0.1, affine=True, track_running_stats=True)\n      (conv3): Conv2d(512, 2048, kernel_size=(1, 1), stride=(1, 1), bias=False)\n      (bn3): BatchNorm2d(2048, eps=1e-05, momentum=0.1, affine=True, track_running_stats=True)\n      (relu): ReLU(inplace=True)\n    )\n    (2): Bottleneck(\n      (conv1): Conv2d(2048, 512, kernel_size=(1, 1), stride=(1, 1), bias=False)\n      (bn1): BatchNorm2d(512, eps=1e-05, momentum=0.1, affine=True, track_running_stats=True)\n      (conv2): Conv2d(512, 512, kernel_size=(3, 3), stride=(1, 1), padding=(1, 1), bias=False)\n      (bn2): BatchNorm2d(512, eps=1e-05, momentum=0.1, affine=True, track_running_stats=True)\n      (conv3): Conv2d(512, 2048, kernel_size=(1, 1), stride=(1, 1), bias=False)\n      (bn3): BatchNorm2d(2048, eps=1e-05, momentum=0.1, affine=True, track_running_stats=True)\n      (relu): ReLU(inplace=True)\n    )\n  )\n  (avgpool): AdaptiveAvgPool2d(output_size=(1, 1))\n  (fc): Linear(in_features=2048, out_features=15, bias=True)\n)"
     },
     "execution_count": 6,
     "metadata": {},
     "output_type": "execute_result"
    }
   ],
   "source": [
    "# https://androidkt.com/modify-pre-train-pytorch-model-for-finetuning-and-feature-extraction/\n",
    "# VGG uses https://github.com/WZMIAOMIAO/deep-learning-for-image-processing/blob/master/pytorch_object_detection/faster_rcnn/backbone/vgg_model.py\n",
    "# Transfer Learning https://www.analyticsvidhya.com/blog/2021/06/transfer-learning-using-vgg16-in-pytorch/\n",
    "model.to(device)"
   ],
   "metadata": {
    "collapsed": false,
    "pycharm": {
     "name": "#%%\n"
    }
   }
  },
  {
   "cell_type": "code",
   "execution_count": 7,
   "outputs": [
    {
     "data": {
      "text/plain": "  0%|          | 0/50 [00:00<?, ?it/s]",
      "application/vnd.jupyter.widget-view+json": {
       "version_major": 2,
       "version_minor": 0,
       "model_id": "8e4a1e57b36445b9b916d3206f0fba33"
      }
     },
     "metadata": {},
     "output_type": "display_data"
    },
    {
     "name": "stdout",
     "output_type": "stream",
     "text": [
      " 1.   20-loss:2.705 ||   40-loss:2.661 ||   60-loss:2.670 ||   80-loss:2.659 || Lasted 0m 36s, Remaining 29.1m\n",
      " 2.   20-loss:2.621 ||   40-loss:2.610 ||   60-loss:2.607 ||   80-loss:2.593 || Lasted 0m 33s, Remaining 26.4m\n",
      " 3.   20-loss:2.567 ||   40-loss:2.531 ||   60-loss:2.543 ||   80-loss:2.518 || Lasted 0m 33s, Remaining 25.9m\n",
      " 4.   20-loss:2.484 ||   40-loss:2.466 ||   60-loss:2.460 ||   80-loss:2.453 || Lasted 0m 33s, Remaining 25.3m\n",
      " 5.   20-loss:2.424 ||   40-loss:2.429 ||   60-loss:2.388 ||   80-loss:2.355 || Lasted 0m 33s, Remaining 24.8m\n",
      " 6.   20-loss:2.352 ||   40-loss:2.295 ||   60-loss:2.313 ||   80-loss:2.304 || Lasted 0m 33s, Remaining 24.2m\n",
      " 7.   20-loss:2.242 ||   40-loss:2.241 ||   60-loss:2.217 ||   80-loss:2.243 || Lasted 0m 33s, Remaining 23.7m\n",
      " 8.   20-loss:2.213 ||   40-loss:2.148 ||   60-loss:2.156 ||   80-loss:2.117 || Lasted 0m 33s, Remaining 23.1m\n",
      " 9.   20-loss:2.072 ||   40-loss:2.052 ||   60-loss:2.109 ||   80-loss:2.074 || Lasted 0m 33s, Remaining 22.6m\n",
      "10.   20-loss:2.027 ||   40-loss:2.021 ||   60-loss:1.967 ||   80-loss:1.962 || Lasted 0m 33s, Remaining 22.0m\n",
      "11.   20-loss:1.899 ||   40-loss:1.920 ||   60-loss:1.905 ||   80-loss:1.906 || Lasted 0m 33s, Remaining 21.5m\n",
      "12.   20-loss:1.781 ||   40-loss:1.877 ||   60-loss:1.774 ||   80-loss:1.823 || Lasted 0m 33s, Remaining 21.1m\n",
      "13.   20-loss:1.774 ||   40-loss:1.714 ||   60-loss:1.784 ||   80-loss:1.714 || Lasted 0m 33s, Remaining 20.5m\n",
      "14.   20-loss:1.696 ||   40-loss:1.669 ||   60-loss:1.665 ||   80-loss:1.621 || Lasted 0m 33s, Remaining 20.0m\n",
      "15.   20-loss:1.610 ||   40-loss:1.601 ||   60-loss:1.567 ||   80-loss:1.595 || Lasted 0m 33s, Remaining 19.3m\n",
      "16.   20-loss:1.553 ||   40-loss:1.547 ||   60-loss:1.534 ||   80-loss:1.483 || Lasted 0m 33s, Remaining 18.7m\n",
      "17.   20-loss:1.534 ||   40-loss:1.407 ||   60-loss:1.509 ||   80-loss:1.439 || Lasted 0m 33s, Remaining 18.2m\n",
      "18.   20-loss:1.423 ||   40-loss:1.378 ||   60-loss:1.431 ||   80-loss:1.372 || Lasted 0m 33s, Remaining 17.6m\n",
      "19.   20-loss:1.393 ||   40-loss:1.306 ||   60-loss:1.392 ||   80-loss:1.308 || Lasted 0m 33s, Remaining 17.1m\n",
      "20.   20-loss:1.298 ||   40-loss:1.322 ||   60-loss:1.319 ||   80-loss:1.303 || Lasted 0m 33s, Remaining 16.5m\n",
      "21.   20-loss:1.249 ||   40-loss:1.308 ||   60-loss:1.207 ||   80-loss:1.317 || Lasted 0m 33s, Remaining 16.0m\n",
      "22.   20-loss:1.261 ||   40-loss:1.197 ||   60-loss:1.292 ||   80-loss:1.175 || Lasted 0m 33s, Remaining 15.4m\n",
      "23.   20-loss:1.191 ||   40-loss:1.232 ||   60-loss:1.155 ||   80-loss:1.193 || Lasted 0m 33s, Remaining 14.9m\n",
      "24.   20-loss:1.092 ||   40-loss:1.244 ||   60-loss:1.124 ||   80-loss:1.188 || Lasted 0m 33s, Remaining 14.3m\n",
      "25.   20-loss:1.091 ||   40-loss:1.100 ||   60-loss:1.132 ||   80-loss:1.155 || Lasted 0m 33s, Remaining 13.8m\n",
      "26.   20-loss:1.082 ||   40-loss:1.050 ||   60-loss:1.090 ||   80-loss:1.100 || Lasted 0m 33s, Remaining 13.2m\n",
      "27.   20-loss:1.034 ||   40-loss:1.079 ||   60-loss:1.107 ||   80-loss:1.013 || Lasted 0m 33s, Remaining 12.8m\n",
      "28.   20-loss:1.077 ||   40-loss:0.962 ||   60-loss:0.993 ||   80-loss:1.040 || Lasted 0m 33s, Remaining 12.1m\n",
      "29.   20-loss:0.947 ||   40-loss:0.959 ||   60-loss:1.028 ||   80-loss:1.005 || Lasted 0m 33s, Remaining 11.5m\n",
      "30.   20-loss:0.960 ||   40-loss:1.009 ||   60-loss:0.968 ||   80-loss:0.984 || Lasted 0m 33s, Remaining 11.0m\n",
      "31.   20-loss:0.986 ||   40-loss:0.911 ||   60-loss:0.951 ||   80-loss:0.903 || Lasted 0m 33s, Remaining 10.4m\n",
      "32.   20-loss:0.947 ||   40-loss:0.866 ||   60-loss:0.884 ||   80-loss:0.896 || Lasted 0m 33s, Remaining 9.9m\n",
      "33.   20-loss:0.903 ||   40-loss:0.908 ||   60-loss:0.855 ||   80-loss:0.863 || Lasted 0m 33s, Remaining 9.4m\n",
      "34.   20-loss:0.891 ||   40-loss:0.828 ||   60-loss:0.858 ||   80-loss:0.883 || Lasted 0m 33s, Remaining 8.8m\n",
      "35.   20-loss:0.845 ||   40-loss:0.842 ||   60-loss:0.799 ||   80-loss:0.791 || Lasted 0m 33s, Remaining 8.3m\n",
      "36.   20-loss:0.807 ||   40-loss:0.839 ||   60-loss:0.809 ||   80-loss:0.842 || Lasted 0m 33s, Remaining 7.7m\n",
      "37.   20-loss:0.744 ||   40-loss:0.790 ||   60-loss:0.837 ||   80-loss:0.803 || Lasted 0m 33s, Remaining 7.1m\n",
      "38.   20-loss:0.675 ||   40-loss:0.808 ||   60-loss:0.749 ||   80-loss:0.783 || Lasted 0m 33s, Remaining 6.6m\n",
      "39.   20-loss:0.770 ||   40-loss:0.723 ||   60-loss:0.757 ||   80-loss:0.716 || Lasted 0m 33s, Remaining 6.0m\n",
      "40.   20-loss:0.747 ||   40-loss:0.729 ||   60-loss:0.745 ||   80-loss:0.721 || Lasted 0m 33s, Remaining 5.6m\n",
      "41.   20-loss:0.738 ||   40-loss:0.768 ||   60-loss:0.697 ||   80-loss:0.656 || Lasted 0m 33s, Remaining 4.9m\n",
      "42.   20-loss:0.761 ||   40-loss:0.696 ||   60-loss:0.628 ||   80-loss:0.697 || Lasted 0m 33s, Remaining 4.4m\n",
      "43.   20-loss:0.701 ||   40-loss:0.668 ||   60-loss:0.651 ||   80-loss:0.626 || Lasted 0m 33s, Remaining 3.9m\n",
      "44.   20-loss:0.613 ||   40-loss:0.667 ||   60-loss:0.675 ||   80-loss:0.613 || Lasted 0m 33s, Remaining 3.3m\n",
      "45.   20-loss:0.714 ||   40-loss:0.614 ||   60-loss:0.622 ||   80-loss:0.643 || Lasted 0m 33s, Remaining 2.7m\n",
      "46.   20-loss:0.641 ||   40-loss:0.616 ||   60-loss:0.607 ||   80-loss:0.645 || Lasted 0m 33s, Remaining 2.2m\n",
      "47.   20-loss:0.588 ||   40-loss:0.618 ||   60-loss:0.621 ||   80-loss:0.594 || Lasted 0m 33s, Remaining 1.7m\n",
      "48.   20-loss:0.511 ||   40-loss:0.629 ||   60-loss:0.579 ||   80-loss:0.627 || Lasted 0m 33s, Remaining 1.1m\n",
      "49.   20-loss:0.608 ||   40-loss:0.559 ||   60-loss:0.544 ||   80-loss:0.577 || Lasted 0m 33s, Remaining 0.5m\n",
      "50.   20-loss:0.548 ||   40-loss:0.586 ||   60-loss:0.547 ||   80-loss:0.563 || Lasted 0m 33s, Remaining 0.0m\n",
      "Finished Training\n"
     ]
    },
    {
     "data": {
      "text/plain": "[<matplotlib.lines.Line2D at 0x2421e4ae8e0>]"
     },
     "execution_count": 7,
     "metadata": {},
     "output_type": "execute_result"
    },
    {
     "data": {
      "text/plain": "<Figure size 432x288 with 1 Axes>",
      "image/png": "[encoded data removed]"
     },
     "metadata": {
      "needs_background": "light"
     },
     "output_type": "display_data"
    }
   ],
   "source": [
    "for epoch in tqdm(range(num_epochs)):  # loop over the dataset multiple times\n",
    "\n",
    "    since = time.time()\n",
    "    running_loss = 0.0\n",
    "    loss_sum = 0.0\n",
    "    print(f'{epoch + 1:2d}.', end=\" \")\n",
    "    for i, data in enumerate(train_loader, 0):\n",
    "        inputs, labels = data[0].to(device), data[1].to(device)\n",
    "\n",
    "        optimizer.zero_grad()\n",
    "\n",
    "        # forward + backward + optimize\n",
    "        # with torch.cuda.amp.autocast():\n",
    "        outputs = model(inputs)\n",
    "        loss = criterion(outputs, labels)\n",
    "\n",
    "        loss.backward()\n",
    "        optimizer.step()\n",
    "        running_loss += loss.item()\n",
    "\n",
    "        if i % refresh_rate == refresh_rate - 1:  # print every 2000 mini-batches\n",
    "            print(f'{i + 1:4d}-loss:{running_loss / refresh_rate:.3f}', end=\" ||\")\n",
    "            loss_sum += running_loss\n",
    "            running_loss = 0.0\n",
    "    time_elapsed = time.time() - since\n",
    "    print('Lasted {:.0f}m {:.0f}s, Remaining {:.1f}m'.format(time_elapsed // 60, time_elapsed % 60,\n",
    "                                                             time_elapsed / 60 * (num_epochs - epoch - 1)))\n",
    "    losses.append(loss_sum)\n",
    "\n",
    "print('Finished Training')\n",
    "plt.plot(losses)"
   ],
   "metadata": {
    "collapsed": false,
    "pycharm": {
     "name": "#%%\n"
    }
   }
  },
  {
   "cell_type": "code",
   "execution_count": 12,
   "outputs": [
    {
     "name": "stdout",
     "output_type": "stream",
     "text": [
      "7138\n"
     ]
    }
   ],
   "source": [
    "test = False\n",
    "if test:\n",
    "    subject = 'HatsOnly'\n",
    "    dataset = HatsDataset(csv_file='FinalData/' + subject + '.csv',\n",
    "                          root_dir='FinalData/' + subject,\n",
    "                          transform=transform)  #8778\n",
    "\n",
    "    print(len(dataset))\n",
    "\n",
    "    # transform = torchvision.transforms.Compose([torchvision.transforms.ToTensor()])\n",
    "    divider = round(len(dataset) * 0.8)\n",
    "    train_set, test_set = torch.utils.data.random_split(dataset, [divider, len(dataset) - divider])\n",
    "    test_loader = torch.utils.data.DataLoader(test_set, batch_size=batch_size, shuffle=False, num_workers=2)"
   ],
   "metadata": {
    "collapsed": false,
    "pycharm": {
     "name": "#%%\n"
    }
   }
  },
  {
   "cell_type": "code",
   "execution_count": 13,
   "outputs": [
    {
     "name": "stdout",
     "output_type": "stream",
     "text": [
      "16 batches, 50 Epochs\n",
      "Accuracy of the network on the validation images: 53 %\n"
     ]
    }
   ],
   "source": [
    "correct = 0\n",
    "total = 0\n",
    "\n",
    "with torch.no_grad():\n",
    "    for data in test_loader:\n",
    "        images, labels = data[0].to(device), data[1].to(device)\n",
    "\n",
    "        # images = images.cuda()\n",
    "        # labels = labels.cuda()\n",
    "        # calculate outputs by running images through the network\n",
    "        outputs = model(images)\n",
    "        # the class with the highest energy is what we choose as prediction\n",
    "        _, predicted = torch.max(outputs.data, 1)\n",
    "        total += labels.size(0)\n",
    "        correct += (predicted == labels).sum().item()\n",
    "\n",
    "print(f'{batch_size} batches, {num_epochs} Epochs')\n",
    "print(f'Accuracy of the network on the validation images: {100 * correct // total} %')"
   ],
   "metadata": {
    "collapsed": false,
    "pycharm": {
     "name": "#%%\n"
    }
   }
  },
  {
   "cell_type": "code",
   "execution_count": 9,
   "outputs": [],
   "source": [
    "torch.save({\n",
    "    'epoch': len(losses),\n",
    "    'model_state_dict': model.state_dict(),\n",
    "    'optimizer_state_dict': optimizer.state_dict(),\n",
    "    'losses': losses,\n",
    "    'train_set': train_set,\n",
    "    'test_set': test_set,\n",
    "    'train_loader': train_loader,\n",
    "    'test_loader': test_loader\n",
    "}, 'Checkpoints/' + model_name + \" \" + str(batch_size) + 'B ' + str(len(losses)) + 'eP ' + subject + '.pt')"
   ],
   "metadata": {
    "collapsed": false,
    "pycharm": {
     "name": "#%%\n"
    }
   }
  },
  {
   "cell_type": "code",
   "execution_count": 9,
   "outputs": [],
   "source": [],
   "metadata": {
    "collapsed": false,
    "pycharm": {
     "name": "#%%\n"
    }
   }
  }
 ],
 "metadata": {
  "kernelspec": {
   "display_name": "Python 3",
   "language": "python",
   "name": "python3"
  },
  "language_info": {
   "codemirror_mode": {
    "name": "ipython",
    "version": 2
   },
   "file_extension": ".py",
   "mimetype": "text/x-python",
   "name": "python",
   "nbconvert_exporter": "python",
   "pygments_lexer": "ipython2",
   "version": "2.7.6"
  }
 },
 "nbformat": 4,
 "nbformat_minor": 0
}