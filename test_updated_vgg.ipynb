{
  "cells": [
    {
      "cell_type": "markdown",
      "metadata": {
        "id": "view-in-github",
        "colab_type": "text"
      },
      "source": [
        "<a href=\"https://colab.research.google.com/github/YanghuiWu/MV-Hat/blob/main/test_updated_vgg.ipynb\" target=\"_parent\"><img src=\"https://colab.research.google.com/assets/colab-badge.svg\" alt=\"Open In Colab\"/></a>"
      ]
    },
    {
      "cell_type": "code",
      "execution_count": 1,
      "metadata": {
        "colab": {
          "base_uri": "https://localhost:8080/"
        },
        "id": "H_DdGGkYDXql",
        "outputId": "ae9ef1af-fc95-4ac1-d516-3bf640661656"
      },
      "outputs": [
        {
          "output_type": "stream",
          "name": "stdout",
          "text": [
            "Mounted at /content/gdrive/\n",
            "/content/gdrive/My Drive/Colab Notebooks/Hats/FinalData\n",
            "\u001b[0m\u001b[01;34mData_Full\u001b[0m/     HumanOnly.csv           vgg16_hats_only.pt\n",
            "Data_Full.csv  lenet_hats.pt           vgg16_hats.pt\n",
            "\u001b[01;34mHatsOnly\u001b[0m/      pytorch_dataset.py      vgg16_human_imagenet.pt\n",
            "HatsOnly.csv   ReadMe.txt              vgg16_human_only.pt\n",
            "\u001b[01;34mHumanOnly\u001b[0m/     vgg16_hats_imagenet.pt  vgg16_imagenet.pt\n"
          ]
        }
      ],
      "source": [
        "from google.colab import drive\n",
        "drive.mount('/content/gdrive/')\n",
        "%cd /content/gdrive/My Drive/Colab Notebooks/Hats/FinalData/\n",
        "%ls"
      ]
    },
    {
      "cell_type": "code",
      "execution_count": 2,
      "metadata": {
        "id": "959GWP1VDJ-2"
      },
      "outputs": [],
      "source": [
        "import torch\n",
        "import torchvision\n",
        "import torchvision.transforms as transforms\n",
        "import ssl\n",
        "import numpy as np\n",
        "from matplotlib import pyplot as plt\n",
        "from mpl_toolkits.mplot3d import Axes3D\n",
        "from tqdm.notebook import tqdm\n",
        "import torch.nn as nn\n",
        "import torch.nn.functional as F\n",
        "from torch.utils.data import DataLoader\n",
        "#from pytorch_dataset import HatsDataset\n",
        "import torch.optim as optim\n",
        "\n",
        "# for pretrained model\n",
        "import torchvision.models as models"
      ]
    },
    {
      "cell_type": "code",
      "execution_count": 3,
      "metadata": {
        "id": "HJjmixByD42m"
      },
      "outputs": [],
      "source": [
        "# for data prep\n",
        "import os\n",
        "import pandas as pd\n",
        "from torch.utils.data import Dataset\n",
        "from skimage import io\n",
        "import pickle"
      ]
    },
    {
      "cell_type": "code",
      "execution_count": 4,
      "metadata": {
        "id": "U-UC4HTUDx4d"
      },
      "outputs": [],
      "source": [
        "class HatsDataset(Dataset):\n",
        "    def __init__(self, csv_file, root_dir,transform=None):\n",
        "        self.annotations = pd.read_csv(csv_file)\n",
        "        self.root_dir = root_dir\n",
        "        self.transform = transform\n",
        "    \n",
        "    def __len__(self):\n",
        "        return len(self.annotations)\n",
        "\n",
        "    def __getitem__(self,index):\n",
        "        img_path = os.path.join(self.root_dir,self.annotations.iloc[index,0])\n",
        "        image = io.imread(img_path)\n",
        "        y_label = torch.tensor(int(self.annotations.iloc[index,1]))\n",
        "\n",
        "        if self.transform:\n",
        "            image = self.transform(image)\n",
        "        return (image,y_label)"
      ]
    },
    {
      "cell_type": "code",
      "execution_count": 5,
      "metadata": {
        "id": "mVEjlIv0DJ-4"
      },
      "outputs": [],
      "source": [
        "in_channel = 3\n",
        "num_class = 15\n",
        "learning_rate = 1e-3\n",
        "batch_size = 16\n",
        "num_epochs = 50\n",
        "\n",
        "# Prepare Dataset\n",
        "# for transfer learning, images are resized to 224*224\n",
        "\n",
        "tf = transforms.Compose([transforms.ToPILImage(),transforms.Resize((224, 224)),transforms.ToTensor()])\n",
        "\n",
        "# tf = transforms.Compose([\n",
        "#     transforms.Resize((224, 224)),\n",
        "#     transforms.RandomHorizontalFlip(),\n",
        "#     transforms.ColorJitter(brightness=0.2, contrast=0.2, saturation=0.1, hue=0.1),\n",
        "#     transforms.RandomAffine(degrees=40, translate=None, scale=(1, 2), shear=15, resample=False, fillcolor=0),\n",
        "#     transforms.ToTensor(),\n",
        "#     transforms.Normalize((0.485, 0.456, 0.406), (0.229, 0.224, 0.225))\n",
        "# ])\n",
        "\n",
        "\n",
        "\n",
        "mixset = HatsDataset(csv_file='Data_Full.csv', root_dir='Data_Full', transform = tf)  #8779\n",
        "hatset = HatsDataset(csv_file='HatsOnly.csv', root_dir='HatsOnly', transform = tf)  #7139\n",
        "humanset = HatsDataset(csv_file='HumanOnly.csv', root_dir='HumanOnly', transform = tf)\n",
        "\n",
        "# transform = torchvision.transforms.Compose([torchvision.transforms.ToTensor()])\n",
        "\n",
        "\n",
        "mix_trainset, mix_testset = torch.utils.data.random_split(mixset, [int(0.8*len(mixset)), len(mixset) - int(0.8*len(mixset))])\n",
        "hat_trainset, hat_testset = torch.utils.data.random_split(hatset, [int(0.8*len(hatset)), len(hatset) - int(0.8*len(hatset))])\n",
        "human_trainset, human_testset = torch.utils.data.random_split(humanset, [int(0.8*len(humanset)), len(humanset) - int(0.8*len(humanset))])\n",
        "\n",
        "classes = ('baseballcap', 'BikeHelmet', 'BucketHat', 'CowboyHat',\n",
        "           'FeltHat', 'FireFighterHat', 'FlatCap', 'GraduationCap', 'Heaterhat', 'MilitaryHelmet',\n",
        "           'MotorCycle Helmet', 'Police Hat', 'SateftyHelmet', 'TopHat', 'beanie')"
      ]
    },
    {
      "cell_type": "code",
      "execution_count": 14,
      "metadata": {
        "id": "BPZ3wfrb6XfD"
      },
      "outputs": [],
      "source": [
        "\n",
        "\n",
        "\n",
        "\n",
        "\n",
        "### ONLY CHANGE THIS\n",
        "trainset = mix_trainset\n",
        "testset = hat_testset\n",
        "\n",
        "checkpoint = \"vgg16_imagenet.pt\"\n",
        "### TO TEST ON DIFFERENT DATASETS\n",
        "\n",
        "\n",
        "\n",
        "\n",
        "\n",
        "trainloader = torch.utils.data.DataLoader(trainset, batch_size=batch_size,\n",
        "                                          shuffle=True, num_workers=2)\n",
        "\n",
        "testloader = torch.utils.data.DataLoader(testset, batch_size=batch_size,\n",
        "                                         shuffle=False, num_workers=2)"
      ]
    },
    {
      "cell_type": "code",
      "execution_count": 7,
      "metadata": {
        "id": "G0G41c6tDJ-6"
      },
      "outputs": [],
      "source": [
        "device = torch.device('cuda' if torch.cuda.is_available() else 'cpu')\n",
        "\n",
        "# https://www.analyticsvidhya.com/blog/2021/06/transfer-learning-using-vgg16-in-pytorch/\n",
        "\n",
        "model = models.vgg16(pretrained=False)\n",
        "dropout = 0.5\n",
        "num_classes = 15\n",
        "\n",
        "model.classifier = nn.Sequential(\n",
        "    nn.Linear(512 * 7 * 7, 4096),\n",
        "    nn.ReLU(True),\n",
        "    nn.Dropout(p=dropout),\n",
        "    nn.Linear(4096, 4096),\n",
        "    nn.ReLU(True),\n",
        "    nn.Dropout(p=dropout),\n",
        "    nn.Linear(4096, num_classes),\n",
        ")\n",
        "\n",
        "model = model.to(device=device)\n",
        "criterion = nn.CrossEntropyLoss()\n",
        "\n",
        "# optimizer = optim.SGD(model.parameters(), lr=0.001, momentum=0.9)\n",
        "optimizer = optim.SGD(model.parameters(), lr=learning_rate)\n",
        "exp_lr_scheduler = torch.optim.lr_scheduler.StepLR(optimizer, step_size=10, gamma=0.5)"
      ]
    },
    {
      "cell_type": "code",
      "execution_count": 8,
      "metadata": {
        "colab": {
          "base_uri": "https://localhost:8080/"
        },
        "id": "Rr9uvp423KT1",
        "outputId": "f3605860-282c-44f0-a1bf-ed2a4f5f95fd"
      },
      "outputs": [
        {
          "output_type": "stream",
          "name": "stdout",
          "text": [
            "----------------------------------------------------------------\n",
            "        Layer (type)               Output Shape         Param #\n",
            "================================================================\n",
            "            Conv2d-1         [-1, 64, 224, 224]           1,792\n",
            "              ReLU-2         [-1, 64, 224, 224]               0\n",
            "            Conv2d-3         [-1, 64, 224, 224]          36,928\n",
            "              ReLU-4         [-1, 64, 224, 224]               0\n",
            "         MaxPool2d-5         [-1, 64, 112, 112]               0\n",
            "            Conv2d-6        [-1, 128, 112, 112]          73,856\n",
            "              ReLU-7        [-1, 128, 112, 112]               0\n",
            "            Conv2d-8        [-1, 128, 112, 112]         147,584\n",
            "              ReLU-9        [-1, 128, 112, 112]               0\n",
            "        MaxPool2d-10          [-1, 128, 56, 56]               0\n",
            "           Conv2d-11          [-1, 256, 56, 56]         295,168\n",
            "             ReLU-12          [-1, 256, 56, 56]               0\n",
            "           Conv2d-13          [-1, 256, 56, 56]         590,080\n",
            "             ReLU-14          [-1, 256, 56, 56]               0\n",
            "           Conv2d-15          [-1, 256, 56, 56]         590,080\n",
            "             ReLU-16          [-1, 256, 56, 56]               0\n",
            "        MaxPool2d-17          [-1, 256, 28, 28]               0\n",
            "           Conv2d-18          [-1, 512, 28, 28]       1,180,160\n",
            "             ReLU-19          [-1, 512, 28, 28]               0\n",
            "           Conv2d-20          [-1, 512, 28, 28]       2,359,808\n",
            "             ReLU-21          [-1, 512, 28, 28]               0\n",
            "           Conv2d-22          [-1, 512, 28, 28]       2,359,808\n",
            "             ReLU-23          [-1, 512, 28, 28]               0\n",
            "        MaxPool2d-24          [-1, 512, 14, 14]               0\n",
            "           Conv2d-25          [-1, 512, 14, 14]       2,359,808\n",
            "             ReLU-26          [-1, 512, 14, 14]               0\n",
            "           Conv2d-27          [-1, 512, 14, 14]       2,359,808\n",
            "             ReLU-28          [-1, 512, 14, 14]               0\n",
            "           Conv2d-29          [-1, 512, 14, 14]       2,359,808\n",
            "             ReLU-30          [-1, 512, 14, 14]               0\n",
            "        MaxPool2d-31            [-1, 512, 7, 7]               0\n",
            "AdaptiveAvgPool2d-32            [-1, 512, 7, 7]               0\n",
            "           Linear-33                 [-1, 4096]     102,764,544\n",
            "             ReLU-34                 [-1, 4096]               0\n",
            "          Dropout-35                 [-1, 4096]               0\n",
            "           Linear-36                 [-1, 4096]      16,781,312\n",
            "             ReLU-37                 [-1, 4096]               0\n",
            "          Dropout-38                 [-1, 4096]               0\n",
            "           Linear-39                   [-1, 15]          61,455\n",
            "================================================================\n",
            "Total params: 134,321,999\n",
            "Trainable params: 134,321,999\n",
            "Non-trainable params: 0\n",
            "----------------------------------------------------------------\n",
            "Input size (MB): 0.57\n",
            "Forward/backward pass size (MB): 218.77\n",
            "Params size (MB): 512.40\n",
            "Estimated Total Size (MB): 731.75\n",
            "----------------------------------------------------------------\n"
          ]
        }
      ],
      "source": [
        "from torchsummary import summary\n",
        "summary(model, (3, 224, 224))"
      ]
    },
    {
      "cell_type": "code",
      "execution_count": 9,
      "metadata": {
        "colab": {
          "base_uri": "https://localhost:8080/"
        },
        "id": "5omeHcERDJ-7",
        "outputId": "5dc84625-e159-4c33-f4cd-754c84eeb74b"
      },
      "outputs": [
        {
          "output_type": "stream",
          "name": "stdout",
          "text": [
            "[Epoch: 1 loss: 2.66806958150755\n",
            "[Epoch: 2 loss: 2.565034913039153\n",
            "[Epoch: 3 loss: 2.5537965862517478\n",
            "[Epoch: 4 loss: 2.5450395190905875\n",
            "[Epoch: 5 loss: 2.5300791676332306\n",
            "[Epoch: 6 loss: 2.5137926630658822\n",
            "[Epoch: 7 loss: 2.4892273112147163\n",
            "[Epoch: 8 loss: 2.4728034248656185\n",
            "[Epoch: 9 loss: 2.440905536225825\n",
            "[Epoch: 10 loss: 2.395535926069377\n",
            "[Epoch: 11 loss: 2.356005615688402\n",
            "[Epoch: 12 loss: 2.299953309713029\n",
            "[Epoch: 13 loss: 2.253545216927496\n",
            "[Epoch: 14 loss: 2.2114674067442945\n",
            "[Epoch: 15 loss: 2.1676765498376382\n",
            "[Epoch: 16 loss: 2.1218244643852215\n",
            "[Epoch: 17 loss: 2.074303942280641\n",
            "[Epoch: 18 loss: 2.018661256531648\n",
            "[Epoch: 19 loss: 1.9703816808166157\n",
            "[Epoch: 20 loss: 1.9205437358256625\n",
            "[Epoch: 21 loss: 1.861419264167751\n",
            "[Epoch: 22 loss: 1.8068492833465541\n",
            "[Epoch: 23 loss: 1.7397631023902285\n",
            "[Epoch: 24 loss: 1.6604633458926086\n",
            "[Epoch: 25 loss: 1.60086690157584\n",
            "[Epoch: 26 loss: 1.5248104211681253\n",
            "[Epoch: 27 loss: 1.4272460534252176\n",
            "[Epoch: 28 loss: 1.351963303898353\n",
            "[Epoch: 29 loss: 1.2322784400203506\n",
            "[Epoch: 30 loss: 1.1318493220692072\n",
            "[Epoch: 31 loss: 1.0246394883527299\n",
            "[Epoch: 32 loss: 0.9373281559056192\n",
            "[Epoch: 33 loss: 0.8161598547512415\n",
            "[Epoch: 34 loss: 0.699182490349359\n",
            "[Epoch: 35 loss: 0.6166304667100548\n",
            "[Epoch: 36 loss: 0.5357891073734722\n",
            "[Epoch: 37 loss: 0.4599581872089713\n",
            "[Epoch: 38 loss: 0.42943934888784735\n",
            "[Epoch: 39 loss: 0.36074613086488905\n",
            "[Epoch: 40 loss: 0.3210299558394455\n",
            "[Epoch: 41 loss: 0.29225704836572153\n",
            "[Epoch: 42 loss: 0.24556661230047364\n",
            "[Epoch: 43 loss: 0.2356999652769951\n",
            "[Epoch: 44 loss: 0.21190616610228744\n",
            "[Epoch: 45 loss: 0.1873661234650277\n",
            "[Epoch: 46 loss: 0.16823474880268666\n",
            "[Epoch: 47 loss: 0.16469476183126988\n",
            "[Epoch: 48 loss: 0.1440060803778618\n",
            "[Epoch: 49 loss: 0.1322828471592462\n",
            "[Epoch: 50 loss: 0.12053881351272379\n",
            "Finished Training\n"
          ]
        }
      ],
      "source": [
        "# Training\n",
        "model.train()\n",
        "losses = []\n",
        "for epoch in range(num_epochs):  # loop over the dataset multiple times\n",
        "\n",
        "    running_loss = 0.0\n",
        "    for data in trainloader:\n",
        "        # get the inputs; data is a list of [inputs, labels]\n",
        "        inputs, labels = data\n",
        "\n",
        "        inputs = inputs.to(device=device)\n",
        "        labels = labels.to(device=device)\n",
        "        # zero the parameter gradients\n",
        "        optimizer.zero_grad()\n",
        "\n",
        "        # forward + backward + optimize\n",
        "        outputs = model(inputs)    \n",
        "        loss = criterion(outputs, labels)\n",
        "\n",
        "        loss.backward()\n",
        "        optimizer.step()\n",
        "\n",
        "        # print statistics\n",
        "        running_loss += loss.item()\n",
        "\n",
        "    # print loss every epoch\n",
        "    print(f'[Epoch: {epoch + 1} loss: {running_loss / len(trainloader)}')\n",
        "    losses.append(running_loss / len(trainloader))\n",
        "    running_loss = 0.0\n",
        "\n",
        "print('Finished Training')"
      ]
    },
    {
      "cell_type": "code",
      "execution_count": 10,
      "metadata": {
        "colab": {
          "base_uri": "https://localhost:8080/",
          "height": 282
        },
        "id": "Q6eOwmvRDuAt",
        "outputId": "b8b76744-509e-4463-99a6-2398a98f237b"
      },
      "outputs": [
        {
          "output_type": "execute_result",
          "data": {
            "text/plain": [
              "[<matplotlib.lines.Line2D at 0x7fe552bec410>]"
            ]
          },
          "metadata": {},
          "execution_count": 10
        },
        {
          "output_type": "display_data",
          "data": {
            "text/plain": [
              "<Figure size 432x288 with 1 Axes>"
            ],
            "image/png": "[encoded data removed]"
          },
          "metadata": {
            "needs_background": "light"
          }
        }
      ],
      "source": [
        "torch.save(model.state_dict(), checkpoint)\n",
        "plt.plot(losses)"
      ]
    },
    {
      "cell_type": "code",
      "execution_count": 15,
      "metadata": {
        "colab": {
          "base_uri": "https://localhost:8080/"
        },
        "id": "hzCcmILPDJ-8",
        "outputId": "f19efcbf-3a10-45c9-cb6f-72b9cf99353e"
      },
      "outputs": [
        {
          "output_type": "stream",
          "name": "stdout",
          "text": [
            "Accuracy of the model on the validation images: 91 %\n"
          ]
        }
      ],
      "source": [
        "correct = 0\n",
        "total = 0\n",
        "\n",
        "model.eval() # Turn to evaluation mode to ignore dropout\n",
        "\n",
        "with torch.no_grad():\n",
        "    for data in testloader:\n",
        "        images, labels = data\n",
        "        # images = images.to('cpu')\n",
        "        # labels = labels.to('cpu')\n",
        "        images = images.to(device = device)\n",
        "        labels = labels.to(device = device)\n",
        "        # calculate outputs by running images through the network\n",
        "        outputs = model(images)\n",
        "        # the class with the highest energy is what we choose as prediction\n",
        "        _, predicted = outputs.max(1)\n",
        "        total += labels.size(0)\n",
        "        correct += (predicted == labels).sum().item()\n",
        "        \n",
        "print(f'Accuracy of the model on the validation images: {100 * correct // total} %')"
      ]
    },
    {
      "cell_type": "code",
      "source": [
        ""
      ],
      "metadata": {
        "id": "b8rZsYccV0qX"
      },
      "execution_count": 11,
      "outputs": []
    }
  ],
  "metadata": {
    "accelerator": "GPU",
    "colab": {
      "background_execution": "on",
      "collapsed_sections": [],
      "name": "test_updated_vgg.ipynb",
      "provenance": [],
      "include_colab_link": true
    },
    "interpreter": {
      "hash": "851433d38881c439cd1aa4ab1f9a2958ccad8ff830098145c1b18d13f5b5af71"
    },
    "kernelspec": {
      "display_name": "Python 3.9.12 ('base')",
      "language": "python",
      "name": "python3"
    },
    "language_info": {
      "codemirror_mode": {
        "name": "ipython",
        "version": 3
      },
      "file_extension": ".py",
      "mimetype": "text/x-python",
      "name": "python",
      "nbconvert_exporter": "python",
      "pygments_lexer": "ipython3",
      "version": "3.9.12"
    }
  },
  "nbformat": 4,
  "nbformat_minor": 0
}