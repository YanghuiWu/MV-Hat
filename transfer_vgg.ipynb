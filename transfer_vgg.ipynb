{
  "cells": [
    {
      "cell_type": "markdown",
      "metadata": {
        "id": "view-in-github",
        "colab_type": "text"
      },
      "source": [
        "<a href=\"https://colab.research.google.com/github/YanghuiWu/MV-Hat/blob/main/transfer_vgg.ipynb\" target=\"_parent\"><img src=\"https://colab.research.google.com/assets/colab-badge.svg\" alt=\"Open In Colab\"/></a>"
      ]
    },
    {
      "cell_type": "code",
      "execution_count": 1,
      "metadata": {
        "colab": {
          "base_uri": "https://localhost:8080/"
        },
        "id": "H_DdGGkYDXql",
        "outputId": "620924f7-7b2b-4d4d-9663-9bcad78d0d2a"
      },
      "outputs": [
        {
          "output_type": "stream",
          "name": "stdout",
          "text": [
            "Drive already mounted at /content/gdrive/; to attempt to forcibly remount, call drive.mount(\"/content/gdrive/\", force_remount=True).\n",
            "/content/gdrive/My Drive/Colab Notebooks/Hats/FinalData\n",
            "\u001b[0m\u001b[01;34mData_Full\u001b[0m/     \u001b[01;34mHumanOnly\u001b[0m/          ReadMe.txt              vgg16_human_only.pt\n",
            "Data_Full.csv  HumanOnly.csv       vgg16_hats_imagenet.pt\n",
            "\u001b[01;34mHatsOnly\u001b[0m/      lenet_hats.pt       vgg16_hats_only.pt\n",
            "HatsOnly.csv   pytorch_dataset.py  vgg16_hats.pt\n"
          ]
        }
      ],
      "source": [
        "from google.colab import drive\n",
        "drive.mount('/content/gdrive/')\n",
        "%cd /content/gdrive/My Drive/Colab Notebooks/Hats/FinalData/\n",
        "%ls"
      ]
    },
    {
      "cell_type": "code",
      "execution_count": 2,
      "metadata": {
        "id": "959GWP1VDJ-2"
      },
      "outputs": [],
      "source": [
        "import torch\n",
        "import torchvision\n",
        "import torchvision.transforms as transforms\n",
        "import ssl\n",
        "import numpy as np\n",
        "from matplotlib import pyplot as plt\n",
        "from mpl_toolkits.mplot3d import Axes3D\n",
        "from tqdm.notebook import tqdm\n",
        "import torch.nn as nn\n",
        "import torch.nn.functional as F\n",
        "from torch.utils.data import DataLoader\n",
        "#from pytorch_dataset import HatsDataset\n",
        "import torch.optim as optim\n",
        "\n",
        "# for pretrained model\n",
        "import torchvision.models as models"
      ]
    },
    {
      "cell_type": "code",
      "execution_count": 3,
      "metadata": {
        "id": "HJjmixByD42m"
      },
      "outputs": [],
      "source": [
        "# for data prep\n",
        "import os\n",
        "import pandas as pd\n",
        "from torch.utils.data import Dataset\n",
        "from skimage import io\n",
        "import pickle"
      ]
    },
    {
      "cell_type": "code",
      "execution_count": 4,
      "metadata": {
        "id": "U-UC4HTUDx4d"
      },
      "outputs": [],
      "source": [
        "class HatsDataset(Dataset):\n",
        "    def __init__(self, csv_file, root_dir,transform=None):\n",
        "        self.annotations = pd.read_csv(csv_file)\n",
        "        self.root_dir = root_dir\n",
        "        self.transform = transform\n",
        "    \n",
        "    def __len__(self):\n",
        "        return len(self.annotations)\n",
        "\n",
        "    def __getitem__(self,index):\n",
        "        img_path = os.path.join(self.root_dir,self.annotations.iloc[index,0])\n",
        "        image = io.imread(img_path)\n",
        "        y_label = torch.tensor(int(self.annotations.iloc[index,1]))\n",
        "\n",
        "        if self.transform:\n",
        "            image = self.transform(image)\n",
        "        return (image,y_label)"
      ]
    },
    {
      "cell_type": "code",
      "execution_count": 5,
      "metadata": {
        "id": "mVEjlIv0DJ-4"
      },
      "outputs": [],
      "source": [
        "in_channel = 3\n",
        "num_class = 15\n",
        "learning_rate = 1e-4\n",
        "batch_size = 16\n",
        "num_epochs = 50\n",
        "\n",
        "checkpoint = \"vgg16_hats_imagenet.pt\"\n",
        "\n",
        "# Prepare Dataset\n",
        "# for transfer learning, images are resized to 224*224\n",
        "\n",
        "tf = transforms.Compose([transforms.ToPILImage(),transforms.Resize((224, 224)),transforms.ToTensor()])\n",
        "\n",
        "# tf = transforms.Compose([\n",
        "#     transforms.Resize((224, 224)),\n",
        "#     transforms.RandomHorizontalFlip(),\n",
        "#     transforms.ColorJitter(brightness=0.2, contrast=0.2, saturation=0.1, hue=0.1),\n",
        "#     transforms.RandomAffine(degrees=40, translate=None, scale=(1, 2), shear=15, resample=False, fillcolor=0),\n",
        "#     transforms.ToTensor(),\n",
        "#     transforms.Normalize((0.485, 0.456, 0.406), (0.229, 0.224, 0.225))\n",
        "# ])\n",
        "\n",
        "dataset = HatsDataset(csv_file='Data_Full.csv', root_dir='Data_Full',\n",
        "                      transform = tf)  #8778\n",
        "\n",
        "# transform = torchvision.transforms.Compose([torchvision.transforms.ToTensor()])\n",
        "\n",
        "trainset, testset = torch.utils.data.random_split(dataset, [7000, len(dataset) - 7000])\n",
        "\n",
        "trainloader = torch.utils.data.DataLoader(trainset, batch_size=batch_size,\n",
        "                                          shuffle=True, num_workers=2)\n",
        "\n",
        "testloader = torch.utils.data.DataLoader(testset, batch_size=batch_size,\n",
        "                                         shuffle=False, num_workers=2)\n",
        "\n",
        "classes = ('baseballcap', 'BikeHelmet', 'BucketHat', 'CowboyHat',\n",
        "           'FeltHat', 'FireFighterHat', 'FlatCap', 'GraduationCap', 'Heaterhat', 'MilitaryHelmet',\n",
        "           'MotorCycle Helmet', 'Police Hat', 'SateftyHelmet', 'TopHat', 'beanie')\n"
      ]
    },
    {
      "cell_type": "code",
      "execution_count": 6,
      "metadata": {
        "id": "G0G41c6tDJ-6"
      },
      "outputs": [],
      "source": [
        "device = torch.device('cuda' if torch.cuda.is_available() else 'cpu')\n",
        "\n",
        "# https://www.analyticsvidhya.com/blog/2021/06/transfer-learning-using-vgg16-in-pytorch/\n",
        "\n",
        "model = models.vgg16(pretrained=True)\n",
        "dropout = 0.5\n",
        "num_classes = 15\n",
        "\n",
        "model.classifier = nn.Sequential(\n",
        "    nn.Linear(512 * 7 * 7, 4096),\n",
        "    nn.ReLU(True),\n",
        "    nn.Dropout(p=dropout),\n",
        "    nn.Linear(4096, 4096),\n",
        "    nn.ReLU(True),\n",
        "    nn.Dropout(p=dropout),\n",
        "    nn.Linear(4096, num_classes),\n",
        ")\n",
        "\n",
        "model = model.to(device=device)\n",
        "criterion = nn.CrossEntropyLoss()\n",
        "# optimizer = optim.SGD(model.parameters(), lr=0.001, momentum=0.9)\n",
        "optimizer = optim.SGD(model.parameters(), lr=learning_rate)\n",
        "exp_lr_scheduler = torch.optim.lr_scheduler.StepLR(optimizer, step_size=10, gamma=0.5)"
      ]
    },
    {
      "cell_type": "code",
      "execution_count": 7,
      "metadata": {
        "id": "-PqVzSP8nj6A",
        "colab": {
          "base_uri": "https://localhost:8080/"
        },
        "outputId": "a44083ea-99fc-4e95-eff9-4a7a22eb7c7c"
      },
      "outputs": [
        {
          "output_type": "execute_result",
          "data": {
            "text/plain": [
              "device(type='cuda')"
            ]
          },
          "metadata": {},
          "execution_count": 7
        }
      ],
      "source": [
        "device"
      ]
    },
    {
      "cell_type": "code",
      "execution_count": null,
      "metadata": {
        "id": "5omeHcERDJ-7",
        "colab": {
          "base_uri": "https://localhost:8080/"
        },
        "outputId": "7027f22e-b784-4f01-beed-c301c2cb3d4a"
      },
      "outputs": [
        {
          "output_type": "stream",
          "name": "stdout",
          "text": [
            "[1 loss: 2.6732705330739828\n",
            "[2 loss: 2.587403633278799\n",
            "[3 loss: 2.495727558114213\n",
            "[4 loss: 2.391095549820765\n",
            "[5 loss: 2.2440826326744743\n",
            "[6 loss: 2.0233199942057536\n",
            "[7 loss: 1.7277569276829288\n",
            "[8 loss: 1.4975337320811128\n",
            "[9 loss: 1.3109584000284813\n",
            "[10 loss: 1.1608211872376264\n"
          ]
        }
      ],
      "source": [
        "losses = []\n",
        "for epoch in range(num_epochs):  # loop over the dataset multiple times\n",
        "\n",
        "    running_loss = 0.0\n",
        "    for data in trainloader:\n",
        "        # get the inputs; data is a list of [inputs, labels]\n",
        "        inputs, labels = data\n",
        "\n",
        "        inputs = inputs.to(device=device)\n",
        "        labels = labels.to(device=device)\n",
        "        # zero the parameter gradients\n",
        "        optimizer.zero_grad()\n",
        "\n",
        "        # forward + backward + optimize\n",
        "        outputs = model(inputs)    \n",
        "        loss = criterion(outputs, labels)\n",
        "\n",
        "        loss.backward()\n",
        "        optimizer.step()\n",
        "\n",
        "        # print statistics\n",
        "        running_loss += loss.item()\n",
        "\n",
        "    # print loss every epoch\n",
        "    print(f'[{epoch + 1} loss: {running_loss / len(trainloader)}')\n",
        "    losses.append(running_loss)\n",
        "    running_loss = 0.0\n",
        "\n",
        "print('Finished Training')"
      ]
    },
    {
      "cell_type": "code",
      "execution_count": null,
      "metadata": {
        "id": "Q6eOwmvRDuAt"
      },
      "outputs": [],
      "source": [
        "torch.save(model.state_dict(), checkpoint)\n",
        "plt.plot(losses)"
      ]
    },
    {
      "cell_type": "code",
      "execution_count": null,
      "metadata": {
        "id": "hzCcmILPDJ-8"
      },
      "outputs": [],
      "source": [
        "correct = 0\n",
        "total = 0\n",
        "\n",
        "# reinitialize the model because the evaluation does not need dropout\n",
        "model.eval()\n",
        "# YOUR CODE HERE\n",
        "# raise NotImplementedError()\n",
        "with torch.no_grad():\n",
        "    for data in testloader:\n",
        "        images, labels = data\n",
        "        # images = images.to('cpu')\n",
        "        # labels = labels.to('cpu')\n",
        "        images = images.to(device = device)\n",
        "        labels = labels.to(device = device)\n",
        "        # calculate outputs by running images through the network\n",
        "        outputs = model(images)\n",
        "        # the class with the highest energy is what we choose as prediction\n",
        "        _, predicted = outputs.max(1)\n",
        "        total += labels.size(0)\n",
        "        correct += (predicted == labels).sum().item()\n",
        "        \n",
        "print(f'Accuracy of the model on the validation images: {100 * correct // total} %')"
      ]
    },
    {
      "cell_type": "code",
      "execution_count": null,
      "metadata": {
        "id": "dyMrBH9wwxr3"
      },
      "outputs": [],
      "source": [
        ""
      ]
    }
  ],
  "metadata": {
    "accelerator": "GPU",
    "colab": {
      "background_execution": "on",
      "collapsed_sections": [],
      "name": "transfer_vgg.ipynb",
      "provenance": [],
      "include_colab_link": true
    },
    "interpreter": {
      "hash": "851433d38881c439cd1aa4ab1f9a2958ccad8ff830098145c1b18d13f5b5af71"
    },
    "kernelspec": {
      "display_name": "Python 3.9.12 ('base')",
      "language": "python",
      "name": "python3"
    },
    "language_info": {
      "codemirror_mode": {
        "name": "ipython",
        "version": 3
      },
      "file_extension": ".py",
      "mimetype": "text/x-python",
      "name": "python",
      "nbconvert_exporter": "python",
      "pygments_lexer": "ipython3",
      "version": "3.9.12"
    }
  },
  "nbformat": 4,
  "nbformat_minor": 0
}