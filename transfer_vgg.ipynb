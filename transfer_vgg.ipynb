{
  "cells": [
    {
      "cell_type": "markdown",
      "metadata": {
        "id": "view-in-github",
        "colab_type": "text"
      },
      "source": [
        "<a href=\"https://colab.research.google.com/github/YanghuiWu/MV-Hat/blob/main/transfer_vgg.ipynb\" target=\"_parent\"><img src=\"https://colab.research.google.com/assets/colab-badge.svg\" alt=\"Open In Colab\"/></a>"
      ]
    },
    {
      "cell_type": "code",
      "execution_count": null,
      "metadata": {
        "colab": {
          "base_uri": "https://localhost:8080/"
        },
        "id": "H_DdGGkYDXql",
        "outputId": "d9690ab4-ef38-40be-d39d-25c119e8f36d"
      },
      "outputs": [
        {
          "output_type": "stream",
          "name": "stdout",
          "text": [
            "Drive already mounted at /content/gdrive/; to attempt to forcibly remount, call drive.mount(\"/content/gdrive/\", force_remount=True).\n",
            "/content/gdrive/My Drive/Colab Notebooks/Hats/FinalData\n",
            "\u001b[0m\u001b[01;34mData_Full\u001b[0m/     HumanOnly.csv           vgg16_hats_only.pt\n",
            "Data_Full.csv  lenet_hats.pt           vgg16_hats.pt\n",
            "\u001b[01;34mHatsOnly\u001b[0m/      pytorch_dataset.py      vgg16_human_imagenet.pt\n",
            "HatsOnly.csv   ReadMe.txt              vgg16_human_only.pt\n",
            "\u001b[01;34mHumanOnly\u001b[0m/     vgg16_hats_imagenet.pt  vgg16_imagenet.pt\n"
          ]
        }
      ],
      "source": [
        "from google.colab import drive\n",
        "drive.mount('/content/gdrive/')\n",
        "%cd /content/gdrive/My Drive/Colab Notebooks/Hats/FinalData/\n",
        "%ls"
      ]
    },
    {
      "cell_type": "code",
      "execution_count": null,
      "metadata": {
        "id": "959GWP1VDJ-2"
      },
      "outputs": [],
      "source": [
        "import torch\n",
        "import torchvision\n",
        "import torchvision.transforms as transforms\n",
        "import ssl\n",
        "import numpy as np\n",
        "from matplotlib import pyplot as plt\n",
        "from mpl_toolkits.mplot3d import Axes3D\n",
        "from tqdm.notebook import tqdm\n",
        "import torch.nn as nn\n",
        "import torch.nn.functional as F\n",
        "from torch.utils.data import DataLoader\n",
        "#from pytorch_dataset import HatsDataset\n",
        "import torch.optim as optim\n",
        "\n",
        "# for pretrained model\n",
        "import torchvision.models as models"
      ]
    },
    {
      "cell_type": "code",
      "execution_count": null,
      "metadata": {
        "id": "HJjmixByD42m"
      },
      "outputs": [],
      "source": [
        "# for data prep\n",
        "import os\n",
        "import pandas as pd\n",
        "from torch.utils.data import Dataset\n",
        "from skimage import io\n",
        "import pickle"
      ]
    },
    {
      "cell_type": "code",
      "execution_count": null,
      "metadata": {
        "id": "U-UC4HTUDx4d"
      },
      "outputs": [],
      "source": [
        "class HatsDataset(Dataset):\n",
        "    def __init__(self, csv_file, root_dir,transform=None):\n",
        "        self.annotations = pd.read_csv(csv_file)\n",
        "        self.root_dir = root_dir\n",
        "        self.transform = transform\n",
        "    \n",
        "    def __len__(self):\n",
        "        return len(self.annotations)\n",
        "\n",
        "    def __getitem__(self,index):\n",
        "        img_path = os.path.join(self.root_dir,self.annotations.iloc[index,0])\n",
        "        image = io.imread(img_path)\n",
        "        y_label = torch.tensor(int(self.annotations.iloc[index,1]))\n",
        "\n",
        "        if self.transform:\n",
        "            image = self.transform(image)\n",
        "        return (image,y_label)"
      ]
    },
    {
      "cell_type": "code",
      "execution_count": null,
      "metadata": {
        "id": "mVEjlIv0DJ-4"
      },
      "outputs": [],
      "source": [
        "in_channel = 3\n",
        "num_class = 15\n",
        "learning_rate = 1e-3\n",
        "batch_size = 16\n",
        "num_epochs = 50\n",
        "\n",
        "# Prepare Dataset\n",
        "# for transfer learning, images are resized to 224*224\n",
        "\n",
        "tf = transforms.Compose([transforms.ToPILImage(),transforms.Resize((224, 224)),transforms.ToTensor()])\n",
        "\n",
        "# tf = transforms.Compose([\n",
        "#     transforms.Resize((224, 224)),\n",
        "#     transforms.RandomHorizontalFlip(),\n",
        "#     transforms.ColorJitter(brightness=0.2, contrast=0.2, saturation=0.1, hue=0.1),\n",
        "#     transforms.RandomAffine(degrees=40, translate=None, scale=(1, 2), shear=15, resample=False, fillcolor=0),\n",
        "#     transforms.ToTensor(),\n",
        "#     transforms.Normalize((0.485, 0.456, 0.406), (0.229, 0.224, 0.225))\n",
        "# ])\n",
        "\n",
        "\n",
        "\n",
        "mixset = HatsDataset(csv_file='Data_Full.csv', root_dir='Data_Full', transform = tf)  #8779\n",
        "\n",
        "hatset = HatsDataset(csv_file='HatsOnly.csv', root_dir='HatsOnly', transform = tf)  #7139\n",
        "humanset = HatsDataset(csv_file='HumanOnly.csv', root_dir='HumanOnly', transform = tf)\n",
        "\n",
        "# transform = torchvision.transforms.Compose([torchvision.transforms.ToTensor()])\n",
        "hat_trainset, hat_testset = torch.utils.data.random_split(hatset, [int(0.8*len(hatset)), len(hatset) - int(0.8*len(hatset))])\n",
        "human_trainset, human_testset = torch.utils.data.random_split(humanset, [int(0.8*len(humanset)), len(humanset) - int(0.8*len(humanset))])\n",
        "\n",
        "mix_trainset = torch.utils.data.ConcatDataset([hat_trainset, human_trainset])\n",
        "mix_testset = torch.utils.data.ConcatDataset([hat_testset, human_testset])\n",
        "\n",
        "classes = ('baseballcap', 'BikeHelmet', 'BucketHat', 'CowboyHat',\n",
        "           'FeltHat', 'FireFighterHat', 'FlatCap', 'GraduationCap', 'Heaterhat', 'MilitaryHelmet',\n",
        "           'MotorCycle Helmet', 'Police Hat', 'SateftyHelmet', 'TopHat', 'beanie')"
      ]
    },
    {
      "cell_type": "code",
      "execution_count": null,
      "metadata": {
        "id": "BPZ3wfrb6XfD"
      },
      "outputs": [],
      "source": [
        "\n",
        "### ONLY CHANGE THIS\n",
        "trainset = hat_trainset\n",
        "testset = human_testset\n",
        "\n",
        "# 76 for mix-human\n",
        "# 88 for mix-hat\n",
        "\n",
        "# 79 for hat-mix\n",
        "# 38 for hat-human\n",
        "\n",
        "checkpoint = \"vgg16_imagenet.pt\"\n",
        "### TO TEST ON DIFFERENT DATASETS\n",
        "\n",
        "trainloader = torch.utils.data.DataLoader(trainset, batch_size=batch_size,\n",
        "                                          shuffle=True, num_workers=2)\n",
        "\n",
        "testloader = torch.utils.data.DataLoader(testset, batch_size=batch_size,\n",
        "                                         shuffle=False, num_workers=2)"
      ]
    },
    {
      "cell_type": "code",
      "execution_count": null,
      "metadata": {
        "id": "G0G41c6tDJ-6"
      },
      "outputs": [],
      "source": [
        "device = torch.device('cuda' if torch.cuda.is_available() else 'cpu')\n",
        "\n",
        "# https://www.analyticsvidhya.com/blog/2021/06/transfer-learning-using-vgg16-in-pytorch/\n",
        "\n",
        "model = models.vgg16(pretrained=True)\n",
        "dropout = 0.5\n",
        "num_classes = 15\n",
        "\n",
        "model.classifier = nn.Sequential(\n",
        "    nn.Linear(512 * 7 * 7, 4096),\n",
        "    nn.ReLU(True),\n",
        "    nn.Dropout(p=dropout),\n",
        "    nn.Linear(4096, 4096),\n",
        "    nn.ReLU(True),\n",
        "    nn.Dropout(p=dropout),\n",
        "    nn.Linear(4096, num_classes),\n",
        ")\n",
        "\n",
        "model = model.to(device=device)\n",
        "criterion = nn.CrossEntropyLoss()\n",
        "\n",
        "# optimizer = optim.SGD(model.parameters(), lr=0.001, momentum=0.9)\n",
        "optimizer = optim.SGD(model.parameters(), lr=learning_rate)\n",
        "exp_lr_scheduler = torch.optim.lr_scheduler.StepLR(optimizer, step_size=10, gamma=0.5)"
      ]
    },
    {
      "cell_type": "code",
      "execution_count": null,
      "metadata": {
        "colab": {
          "base_uri": "https://localhost:8080/"
        },
        "id": "Rr9uvp423KT1",
        "outputId": "cdf52b29-6718-4b4e-eb96-91f57acfb601"
      },
      "outputs": [
        {
          "output_type": "stream",
          "name": "stdout",
          "text": [
            "----------------------------------------------------------------\n",
            "        Layer (type)               Output Shape         Param #\n",
            "================================================================\n",
            "            Conv2d-1         [-1, 64, 224, 224]           1,792\n",
            "              ReLU-2         [-1, 64, 224, 224]               0\n",
            "            Conv2d-3         [-1, 64, 224, 224]          36,928\n",
            "              ReLU-4         [-1, 64, 224, 224]               0\n",
            "         MaxPool2d-5         [-1, 64, 112, 112]               0\n",
            "            Conv2d-6        [-1, 128, 112, 112]          73,856\n",
            "              ReLU-7        [-1, 128, 112, 112]               0\n",
            "            Conv2d-8        [-1, 128, 112, 112]         147,584\n",
            "              ReLU-9        [-1, 128, 112, 112]               0\n",
            "        MaxPool2d-10          [-1, 128, 56, 56]               0\n",
            "           Conv2d-11          [-1, 256, 56, 56]         295,168\n",
            "             ReLU-12          [-1, 256, 56, 56]               0\n",
            "           Conv2d-13          [-1, 256, 56, 56]         590,080\n",
            "             ReLU-14          [-1, 256, 56, 56]               0\n",
            "           Conv2d-15          [-1, 256, 56, 56]         590,080\n",
            "             ReLU-16          [-1, 256, 56, 56]               0\n",
            "        MaxPool2d-17          [-1, 256, 28, 28]               0\n",
            "           Conv2d-18          [-1, 512, 28, 28]       1,180,160\n",
            "             ReLU-19          [-1, 512, 28, 28]               0\n",
            "           Conv2d-20          [-1, 512, 28, 28]       2,359,808\n",
            "             ReLU-21          [-1, 512, 28, 28]               0\n",
            "           Conv2d-22          [-1, 512, 28, 28]       2,359,808\n",
            "             ReLU-23          [-1, 512, 28, 28]               0\n",
            "        MaxPool2d-24          [-1, 512, 14, 14]               0\n",
            "           Conv2d-25          [-1, 512, 14, 14]       2,359,808\n",
            "             ReLU-26          [-1, 512, 14, 14]               0\n",
            "           Conv2d-27          [-1, 512, 14, 14]       2,359,808\n",
            "             ReLU-28          [-1, 512, 14, 14]               0\n",
            "           Conv2d-29          [-1, 512, 14, 14]       2,359,808\n",
            "             ReLU-30          [-1, 512, 14, 14]               0\n",
            "        MaxPool2d-31            [-1, 512, 7, 7]               0\n",
            "AdaptiveAvgPool2d-32            [-1, 512, 7, 7]               0\n",
            "           Linear-33                 [-1, 4096]     102,764,544\n",
            "             ReLU-34                 [-1, 4096]               0\n",
            "          Dropout-35                 [-1, 4096]               0\n",
            "           Linear-36                 [-1, 4096]      16,781,312\n",
            "             ReLU-37                 [-1, 4096]               0\n",
            "          Dropout-38                 [-1, 4096]               0\n",
            "           Linear-39                   [-1, 15]          61,455\n",
            "================================================================\n",
            "Total params: 134,321,999\n",
            "Trainable params: 134,321,999\n",
            "Non-trainable params: 0\n",
            "----------------------------------------------------------------\n",
            "Input size (MB): 0.57\n",
            "Forward/backward pass size (MB): 218.77\n",
            "Params size (MB): 512.40\n",
            "Estimated Total Size (MB): 731.75\n",
            "----------------------------------------------------------------\n"
          ]
        }
      ],
      "source": [
        "from torchsummary import summary\n",
        "summary(model, (3, 224, 224))"
      ]
    },
    {
      "cell_type": "code",
      "execution_count": null,
      "metadata": {
        "colab": {
          "base_uri": "https://localhost:8080/"
        },
        "id": "5omeHcERDJ-7",
        "outputId": "ccc6bdc3-d976-4fa8-9fca-a138e0bade5d"
      },
      "outputs": [
        {
          "output_type": "stream",
          "name": "stdout",
          "text": [
            "[Epoch: 1 loss: 2.0554375822136715\n",
            "[Epoch: 2 loss: 0.9531180745914203\n",
            "[Epoch: 3 loss: 0.6272893630239476\n",
            "[Epoch: 4 loss: 0.4574914970943908\n",
            "[Epoch: 5 loss: 0.340241155193216\n",
            "[Epoch: 6 loss: 0.25932319522300523\n",
            "[Epoch: 7 loss: 0.19315721242524245\n",
            "[Epoch: 8 loss: 0.14210570184905238\n",
            "[Epoch: 9 loss: 0.10969857702518263\n",
            "[Epoch: 10 loss: 0.10016626412575903\n",
            "[Epoch: 11 loss: 0.08099243679039535\n",
            "[Epoch: 12 loss: 0.07249681496600091\n",
            "[Epoch: 13 loss: 0.06114565667767059\n",
            "[Epoch: 14 loss: 0.05068814926524777\n",
            "[Epoch: 15 loss: 0.04437023864875428\n",
            "[Epoch: 16 loss: 0.044431501681148795\n",
            "[Epoch: 17 loss: 0.050781275717025044\n",
            "[Epoch: 18 loss: 0.0388123886714362\n",
            "[Epoch: 19 loss: 0.043783141173924844\n",
            "[Epoch: 20 loss: 0.03645280269126236\n",
            "[Epoch: 21 loss: 0.03876287725536252\n",
            "[Epoch: 22 loss: 0.029378133393058677\n",
            "[Epoch: 23 loss: 0.027042617746146202\n",
            "[Epoch: 24 loss: 0.034566188970445694\n",
            "[Epoch: 25 loss: 0.029759868621851933\n",
            "[Epoch: 26 loss: 0.030091486664988485\n",
            "[Epoch: 27 loss: 0.025945377946180403\n",
            "[Epoch: 28 loss: 0.02929453775673095\n",
            "[Epoch: 29 loss: 0.027980289127146472\n",
            "[Epoch: 30 loss: 0.024521987162206285\n",
            "[Epoch: 31 loss: 0.022563644754349813\n",
            "[Epoch: 32 loss: 0.02390318479350147\n",
            "[Epoch: 33 loss: 0.02079657128488383\n",
            "[Epoch: 34 loss: 0.02148296196437692\n",
            "[Epoch: 35 loss: 0.01889156888592734\n",
            "[Epoch: 36 loss: 0.025260305256975413\n",
            "[Epoch: 37 loss: 0.020838315794964667\n",
            "[Epoch: 38 loss: 0.019539433522307057\n",
            "[Epoch: 39 loss: 0.016292112079660224\n",
            "[Epoch: 40 loss: 0.023097466497311675\n",
            "[Epoch: 41 loss: 0.018294398506418282\n",
            "[Epoch: 42 loss: 0.01661094336269147\n",
            "[Epoch: 43 loss: 0.014665958473410136\n",
            "[Epoch: 44 loss: 0.02165030618405591\n",
            "[Epoch: 45 loss: 0.016517377499468067\n",
            "[Epoch: 46 loss: 0.01741413755116198\n",
            "[Epoch: 47 loss: 0.019678649431663885\n",
            "[Epoch: 48 loss: 0.015721236569188782\n",
            "[Epoch: 49 loss: 0.016317296102492603\n",
            "[Epoch: 50 loss: 0.013793425555981108\n",
            "Finished Training\n"
          ]
        }
      ],
      "source": [
        "# Training\n",
        "model.train()\n",
        "losses = []\n",
        "for epoch in range(num_epochs):  # loop over the dataset multiple times\n",
        "\n",
        "    running_loss = 0.0\n",
        "    for data in trainloader:\n",
        "        # get the inputs; data is a list of [inputs, labels]\n",
        "        inputs, labels = data\n",
        "\n",
        "        inputs = inputs.to(device=device)\n",
        "        labels = labels.to(device=device)\n",
        "        # zero the parameter gradients\n",
        "        optimizer.zero_grad()\n",
        "\n",
        "        # forward + backward + optimize\n",
        "        outputs = model(inputs)    \n",
        "        loss = criterion(outputs, labels)\n",
        "\n",
        "        loss.backward()\n",
        "        optimizer.step()\n",
        "\n",
        "        # print statistics\n",
        "        running_loss += loss.item()\n",
        "\n",
        "    # print loss every epoch\n",
        "    print(f'[Epoch: {epoch + 1} loss: {running_loss / len(trainloader)}')\n",
        "    losses.append(running_loss / len(trainloader))\n",
        "    running_loss = 0.0\n",
        "\n",
        "print('Finished Training')"
      ]
    },
    {
      "cell_type": "code",
      "execution_count": null,
      "metadata": {
        "colab": {
          "base_uri": "https://localhost:8080/",
          "height": 282
        },
        "id": "Q6eOwmvRDuAt",
        "outputId": "cdd38251-f2ab-4d30-c33a-321a1af8a15a"
      },
      "outputs": [
        {
          "output_type": "execute_result",
          "data": {
            "text/plain": [
              "[<matplotlib.lines.Line2D at 0x7f255a2fab50>]"
            ]
          },
          "metadata": {},
          "execution_count": 10
        },
        {
          "output_type": "display_data",
          "data": {
            "text/plain": [
              "<Figure size 432x288 with 1 Axes>"
            ],
            "image/png": "[encoded data removed]"
          },
          "metadata": {
            "needs_background": "light"
          }
        }
      ],
      "source": [
        "torch.save(model.state_dict(), checkpoint)\n",
        "plt.plot(losses)"
      ]
    },
    {
      "cell_type": "code",
      "execution_count": null,
      "metadata": {
        "colab": {
          "base_uri": "https://localhost:8080/"
        },
        "id": "hzCcmILPDJ-8",
        "outputId": "563384be-1ebb-4369-c108-babb7db608f9"
      },
      "outputs": [
        {
          "output_type": "stream",
          "name": "stdout",
          "text": [
            "Accuracy of the model on the validation images: 38 %\n"
          ]
        }
      ],
      "source": [
        "correct = 0\n",
        "total = 0\n",
        "\n",
        "model.eval() # Turn to evaluation mode to ignore dropout\n",
        "\n",
        "with torch.no_grad():\n",
        "    for data in testloader:\n",
        "        images, labels = data\n",
        "        # images = images.to('cpu')\n",
        "        # labels = labels.to('cpu')\n",
        "        images = images.to(device = device)\n",
        "        labels = labels.to(device = device)\n",
        "        # calculate outputs by running images through the network\n",
        "        outputs = model(images)\n",
        "        # the class with the highest energy is what we choose as prediction\n",
        "        _, predicted = outputs.max(1)\n",
        "        total += labels.size(0)\n",
        "        correct += (predicted == labels).sum().item()\n",
        "        \n",
        "print(f'Accuracy of the model on the validation images: {100 * correct // total} %')"
      ]
    },
    {
      "cell_type": "code",
      "source": [
        ""
      ],
      "metadata": {
        "id": "b8rZsYccV0qX"
      },
      "execution_count": null,
      "outputs": []
    }
  ],
  "metadata": {
    "accelerator": "GPU",
    "colab": {
      "background_execution": "on",
      "collapsed_sections": [],
      "name": "transfer_vgg.ipynb",
      "provenance": [],
      "include_colab_link": true
    },
    "interpreter": {
      "hash": "851433d38881c439cd1aa4ab1f9a2958ccad8ff830098145c1b18d13f5b5af71"
    },
    "kernelspec": {
      "display_name": "Python 3.9.12 ('base')",
      "language": "python",
      "name": "python3"
    },
    "language_info": {
      "codemirror_mode": {
        "name": "ipython",
        "version": 3
      },
      "file_extension": ".py",
      "mimetype": "text/x-python",
      "name": "python",
      "nbconvert_exporter": "python",
      "pygments_lexer": "ipython3",
      "version": "3.9.12"
    }
  },
  "nbformat": 4,
  "nbformat_minor": 0
}