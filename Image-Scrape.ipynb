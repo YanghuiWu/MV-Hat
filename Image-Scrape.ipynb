{
 "cells": [
  {
   "cell_type": "code",
   "execution_count": 1,
   "id": "fa8e1b69",
   "metadata": {},
   "outputs": [],
   "source": [
    "import urllib.request\n",
    "import os\n",
    "from tqdm.notebook import tqdm\n",
    "  \n",
    "\n",
    "parent_dir = \"C:/Users/woody/OneDrive - Gio/Desktop/CS/Final/\""
   ]
  },
  {
   "cell_type": "code",
   "execution_count": 2,
   "id": "5676f411",
   "metadata": {},
   "outputs": [
    {
     "name": "stdout",
     "output_type": "stream",
     "text": [
      "C:/Users/woody/OneDrive - Gio/Desktop/CS/Final/Bucket Hat\n"
     ]
    }
   ],
   "source": [
    "from serpapi import GoogleSearch\n",
    "\n",
    "params = {\n",
    "  \"engine\": \"google\",\n",
    "  \"ijn\": \"0\",\n",
    "  \"q\": \"Bucket Hat\",\n",
    "  \"google_domain\": \"google.com\",\n",
    "  \"tbm\": \"isch\",\n",
    "  \"api_key\": \"d23b663a4093eb65e48ac14393d454bd62d319cc8247b6190d40c9734e115892\"\n",
    "}\n",
    "# Directory\n",
    "directory = params.get('q')\n",
    "path = os.path.join(parent_dir, directory)\n",
    "print(path)\n",
    "try:\n",
    "    os.mkdir(path)\n",
    "except:\n",
    "    True\n",
    "\n",
    "\n",
    "def search(par):\n",
    "    search = GoogleSearch(par)\n",
    "    results = search.get_dict()\n",
    "    image = results.get('images_results')\n",
    "    return image"
   ]
  },
  {
   "cell_type": "code",
   "execution_count": 3,
   "id": "a83f93ae",
   "metadata": {},
   "outputs": [],
   "source": [
    "def obt(image, i, j):\n",
    "\n",
    "    url = image[i][j].get('original')\n",
    "    format = \" \"+url.split('/')[-1][-5:]\n",
    "    if '.' in format:\n",
    "        pass\n",
    "    else:\n",
    "        format = \".png\"\n",
    "    location= path+\"/\" + params.get('q')+str(i)+\"-\"+str(j)+format\n",
    "    urllib.request.urlretrieve(url, location)\n",
    "\n",
    "def download(image, i, j):\n",
    "    thum = image.get('thumbnail')\n",
    "    urllib.request.urlretrieve(thum, path+\"/thum \"+str(i)+\"-\"+str(j)+\".png\")\n",
    "    \n",
    "def realD(images, i, j):\n",
    "    try:\n",
    "#         print(str(j) + \" \" + orig.split('/')[-1])\n",
    "        obt(images, i, j)\n",
    "        \n",
    "    except:\n",
    "        return"
   ]
  },
  {
   "cell_type": "code",
   "execution_count": null,
   "id": "39d66142",
   "metadata": {
    "scrolled": true
   },
   "outputs": [
    {
     "name": "stdout",
     "output_type": "stream",
     "text": [
      "0: https://serpapi.com/search\n"
     ]
    },
    {
     "data": {
      "application/vnd.jupyter.widget-view+json": {
       "model_id": "54021d3d0d3c438287763190120a6109",
       "version_major": 2,
       "version_minor": 0
      },
      "text/plain": [
       "  0%|          | 0/100 [00:00<?, ?it/s]"
      ]
     },
     "metadata": {},
     "output_type": "display_data"
    }
   ],
   "source": [
    "images=[]\n",
    "# Start From\n",
    "intp = 0\n",
    "for i in range (intp):\n",
    "    images.append([])\n",
    "for i in range (intp,6):\n",
    "    params[\"ijn\"] = str(i)\n",
    "    print (params.get(\"ijn\") , end =\": \")\n",
    "    images.append(search(params))\n",
    "    for j in tqdm(range(len(images[i]))):\n",
    "        realD(images, i, j)\n",
    "print('Job Finished')\n"
   ]
  },
  {
   "cell_type": "code",
   "execution_count": 4,
   "id": "1248206d",
   "metadata": {},
   "outputs": [],
   "source": [
    "# images[5]\n",
    "# realD(images,5,74)\n",
    "# images[5][74]\n",
    "# for j in range(len(images[5])):\n",
    "# len(images[5])"
   ]
  },
  {
   "cell_type": "code",
   "execution_count": null,
   "id": "c553eccd",
   "metadata": {},
   "outputs": [],
   "source": [
    "# images[3]"
   ]
  }
 ],
 "metadata": {
  "kernelspec": {
   "display_name": "Python 3 (ipykernel)",
   "language": "python",
   "name": "python3"
  },
  "language_info": {
   "codemirror_mode": {
    "name": "ipython",
    "version": 3
   },
   "file_extension": ".py",
   "mimetype": "text/x-python",
   "name": "python",
   "nbconvert_exporter": "python",
   "pygments_lexer": "ipython3",
   "version": "3.9.7"
  }
 },
 "nbformat": 4,
 "nbformat_minor": 5
}
