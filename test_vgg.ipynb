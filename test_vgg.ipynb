{
  "cells": [
    {
      "cell_type": "markdown",
      "metadata": {
        "id": "view-in-github",
        "colab_type": "text"
      },
      "source": [
        "<a href=\"https://colab.research.google.com/github/YanghuiWu/MV-Hat/blob/main/test_vgg.ipynb\" target=\"_parent\"><img src=\"https://colab.research.google.com/assets/colab-badge.svg\" alt=\"Open In Colab\"/></a>"
      ]
    },
    {
      "cell_type": "code",
      "source": [
        "from google.colab import drive\n",
        "drive.mount('/content/gdrive/')\n",
        "%cd /content/gdrive/My Drive/Colab Notebooks/Hats/FinalData/\n",
        "%ls"
      ],
      "metadata": {
        "id": "H_DdGGkYDXql",
        "outputId": "6a365771-8a78-4843-8f5d-a58917f675a4",
        "colab": {
          "base_uri": "https://localhost:8080/"
        }
      },
      "execution_count": 54,
      "outputs": [
        {
          "output_type": "stream",
          "name": "stdout",
          "text": [
            "Drive already mounted at /content/gdrive/; to attempt to forcibly remount, call drive.mount(\"/content/gdrive/\", force_remount=True).\n",
            "/content/gdrive/My Drive/Colab Notebooks/Hats/FinalData\n",
            "\u001b[0m\u001b[01;34mData_Full\u001b[0m/     \u001b[01;34mHatsOnly\u001b[0m/     \u001b[01;34mHumanOnly\u001b[0m/     pytorch_dataset.py  vgg16_hats.pt\n",
            "Data_Full.csv  HatsOnly.csv  HumanOnly.csv  ReadMe.txt\n"
          ]
        }
      ]
    },
    {
      "cell_type": "code",
      "execution_count": 55,
      "metadata": {
        "pycharm": {
          "name": "#%%\n"
        },
        "id": "959GWP1VDJ-2"
      },
      "outputs": [],
      "source": [
        "import torch\n",
        "import torchvision\n",
        "import torchvision.transforms as transforms\n",
        "import ssl\n",
        "import numpy as np\n",
        "from matplotlib import pyplot as plt\n",
        "from mpl_toolkits.mplot3d import Axes3D\n",
        "from tqdm.notebook import tqdm\n",
        "import torch.nn as nn\n",
        "import torch.nn.functional as F\n",
        "from torch.utils.data import DataLoader\n",
        "#from pytorch_dataset import HatsDataset\n",
        "import torch.optim as optim\n"
      ]
    },
    {
      "cell_type": "code",
      "source": [
        "# for data prep\n",
        "import os\n",
        "import pandas as pd\n",
        "from torch.utils.data import Dataset\n",
        "from skimage import io\n",
        "import pickle"
      ],
      "metadata": {
        "id": "HJjmixByD42m"
      },
      "execution_count": 56,
      "outputs": []
    },
    {
      "cell_type": "code",
      "source": [
        "class HatsDataset(Dataset):\n",
        "    def __init__(self, csv_file, root_dir,transform=None):\n",
        "        self.annotations = pd.read_csv(csv_file)\n",
        "        self.root_dir = root_dir\n",
        "        self.transform = transform\n",
        "    \n",
        "    def __len__(self):\n",
        "        return len(self.annotations)\n",
        "\n",
        "    def __getitem__(self,index):\n",
        "        img_path = os.path.join(self.root_dir,self.annotations.iloc[index,0])\n",
        "        image = io.imread(img_path)\n",
        "        y_label = torch.tensor(int(self.annotations.iloc[index,1]))\n",
        "\n",
        "        if self.transform:\n",
        "            image = self.transform(image)\n",
        "        return (image,y_label)"
      ],
      "metadata": {
        "id": "U-UC4HTUDx4d"
      },
      "execution_count": 57,
      "outputs": []
    },
    {
      "cell_type": "code",
      "execution_count": 58,
      "metadata": {
        "pycharm": {
          "name": "#%%\n"
        },
        "id": "mVEjlIv0DJ-4"
      },
      "outputs": [],
      "source": [
        "# Prepare Dataset\n",
        "dataset = HatsDataset(csv_file='Data_Full.csv', root_dir='Data_Full',\n",
        "                      transform=transforms.ToTensor())  #8778\n",
        "\n",
        "# transform = torchvision.transforms.Compose([torchvision.transforms.ToTensor()])\n",
        "\n",
        "trainset, testset = torch.utils.data.random_split(dataset, [7000, len(dataset) - 7000])\n",
        "\n",
        "trainloader = torch.utils.data.DataLoader(trainset, batch_size=batch_size,\n",
        "                                          shuffle=True, num_workers=2)\n",
        "\n",
        "testloader = torch.utils.data.DataLoader(testset, batch_size=batch_size,\n",
        "                                         shuffle=False, num_workers=2)\n",
        "\n",
        "classes = ('baseballcap', 'BikeHelmet', 'BucketHat', 'CowboyHat',\n",
        "           'FeltHat', 'FireFighterHat', 'FlatCap', 'GraduationCap', 'Heaterhat', 'MilitaryHelmet',\n",
        "           'MotorCycle Helmet', 'Police Hat', 'SateftyHelmet', 'TopHat', 'beanie')\n"
      ]
    },
    {
      "cell_type": "code",
      "execution_count": 59,
      "metadata": {
        "pycharm": {
          "name": "#%%\n",
          "is_executing": true
        },
        "id": "CPtUdUoJDJ-5"
      },
      "outputs": [],
      "source": [
        "# def imshow(img):\n",
        "#     # img = img / 2 + 0.4     # unnormalize\n",
        "#     npimg = img.numpy()\n",
        "#     plt.figure(figsize=(16, 7))\n",
        "#     plt.imshow(np.transpose(npimg, (1, 2, 0)))\n",
        "#     plt.title('        '.join('%5s' % classes[labels[j]] for j in range(8)))\n",
        "#     plt.show()\n",
        "# dataiter = iter(trainloader)\n",
        "# images, labels = dataiter.next()\n",
        "# imshow(torchvision.utils.make_grid(images))"
      ]
    },
    {
      "cell_type": "code",
      "execution_count": 60,
      "outputs": [],
      "source": [
        "class VGG16(nn.Module):\n",
        "    def __init__(self):\n",
        "        super(VGG16, self).__init__()\n",
        "        self.conv1_1 = nn.Conv2d(in_channels=3, out_channels=64, kernel_size=3, padding=1)\n",
        "        self.conv1_2 = nn.Conv2d(in_channels=64, out_channels=64, kernel_size=3, padding=1)\n",
        "\n",
        "        self.conv2_1 = nn.Conv2d(in_channels=64, out_channels=128, kernel_size=3, padding=1)\n",
        "        self.conv2_2 = nn.Conv2d(in_channels=128, out_channels=128, kernel_size=3, padding=1)\n",
        "\n",
        "        self.conv3_1 = nn.Conv2d(in_channels=128, out_channels=256, kernel_size=3, padding=1)\n",
        "        self.conv3_2 = nn.Conv2d(in_channels=256, out_channels=256, kernel_size=3, padding=1)\n",
        "        self.conv3_3 = nn.Conv2d(in_channels=256, out_channels=256, kernel_size=3, padding=1)\n",
        "\n",
        "        self.conv4_1 = nn.Conv2d(in_channels=256, out_channels=512, kernel_size=3, padding=1)\n",
        "        self.conv4_2 = nn.Conv2d(in_channels=512, out_channels=512, kernel_size=3, padding=1)\n",
        "        self.conv4_3 = nn.Conv2d(in_channels=512, out_channels=512, kernel_size=3, padding=1)\n",
        "\n",
        "        self.conv5_1 = nn.Conv2d(in_channels=512, out_channels=512, kernel_size=3, padding=1)\n",
        "        self.conv5_2 = nn.Conv2d(in_channels=512, out_channels=512, kernel_size=3, padding=1)\n",
        "        self.conv5_3 = nn.Conv2d(in_channels=512, out_channels=512, kernel_size=3, padding=1)\n",
        "\n",
        "        self.maxpool = nn.MaxPool2d(kernel_size=2, stride=2)\n",
        "\n",
        "        # self.fc1 = nn.Linear(25088, 4096)\n",
        "        self.fc1 = nn.Linear(32768,4096)\n",
        "        self.fc2 = nn.Linear(4096, 4096)\n",
        "        self.fc3 = nn.Linear(4096, 15)\n",
        "\n",
        "    def forward(self, x):\n",
        "        x = F.relu(self.conv1_1(x))\n",
        "        x = F.relu(self.conv1_2(x))\n",
        "        x = self.maxpool(x)\n",
        "        x = F.relu(self.conv2_1(x))\n",
        "        x = F.relu(self.conv2_2(x))\n",
        "        x = self.maxpool(x)\n",
        "        x = F.relu(self.conv3_1(x))\n",
        "        x = F.relu(self.conv3_2(x))\n",
        "        x = F.relu(self.conv3_3(x))\n",
        "        x = self.maxpool(x)\n",
        "        x = F.relu(self.conv4_1(x))\n",
        "        x = F.relu(self.conv4_2(x))\n",
        "        x = F.relu(self.conv4_3(x))\n",
        "        x = self.maxpool(x)\n",
        "        x = F.relu(self.conv5_1(x))\n",
        "        x = F.relu(self.conv5_2(x))\n",
        "        x = F.relu(self.conv5_3(x))\n",
        "        x = self.maxpool(x)\n",
        "\n",
        "        x = x.reshape(x.shape[0], -1)\n",
        "        # x = torch.flatten(x,1)\n",
        "\n",
        "        x = F.relu(self.fc1(x))\n",
        "        # x = F.dropout(x, 0.5) #dropout was included to combat overfitting\n",
        "        x = F.relu(self.fc2(x))\n",
        "        # x = F.dropout(x, 0.5)\n",
        "        x = self.fc3(x)\n",
        "        return x"
      ],
      "metadata": {
        "pycharm": {
          "name": "#%%\n"
        },
        "id": "VNrgyk9aDJ-6"
      }
    },
    {
      "cell_type": "code",
      "execution_count": 61,
      "outputs": [],
      "source": [
        "in_channel = 3\n",
        "num_class = 15\n",
        "learning_rate = 1e-4\n",
        "batch_size = 16\n",
        "num_epochs = 50\n",
        "\n",
        "device = torch.device('cuda' if torch.cuda.is_available() else 'cpu')\n",
        "\n",
        "model = VGG16()\n",
        "model = model.to(device=device)\n",
        "\n",
        "criterion = nn.CrossEntropyLoss()\n",
        "\n",
        "# optimizer = optim.SGD(model.parameters(), lr=0.001, momentum=0.9)\n",
        "optimizer = optim.Adam(model.parameters(), lr=learning_rate)\n"
      ],
      "metadata": {
        "pycharm": {
          "name": "#%%\n"
        },
        "id": "G0G41c6tDJ-6"
      }
    },
    {
      "cell_type": "code",
      "execution_count": null,
      "outputs": [
        {
          "output_type": "stream",
          "name": "stdout",
          "text": [
            "[1,    10] loss: 2.671\n",
            "[1,    20] loss: 2.657\n",
            "[1,    30] loss: 2.633\n",
            "[1,    40] loss: 2.623\n",
            "[1,    50] loss: 2.601\n",
            "[1,    60] loss: 2.551\n",
            "[1,    70] loss: 2.573\n",
            "[1,    80] loss: 2.613\n",
            "[1,    90] loss: 2.559\n",
            "[1,   100] loss: 2.596\n",
            "[1,   110] loss: 2.600\n",
            "[1,   120] loss: 2.592\n",
            "[1,   130] loss: 2.559\n",
            "[1,   140] loss: 2.598\n",
            "[1,   150] loss: 2.581\n",
            "[1,   160] loss: 2.532\n",
            "[1,   170] loss: 2.510\n",
            "[1,   180] loss: 2.625\n",
            "[1,   190] loss: 2.544\n",
            "[1,   200] loss: 2.568\n",
            "[1,   210] loss: 2.553\n",
            "[1,   220] loss: 2.585\n",
            "[1,   230] loss: 2.561\n",
            "[1,   240] loss: 2.490\n",
            "[1,   250] loss: 2.624\n",
            "[1,   260] loss: 2.573\n",
            "[1,   270] loss: 2.603\n",
            "[1,   280] loss: 2.537\n",
            "[1,   290] loss: 2.582\n",
            "[1,   300] loss: 2.526\n",
            "[1,   310] loss: 2.534\n",
            "[1,   320] loss: 2.639\n",
            "[1,   330] loss: 2.643\n",
            "[1,   340] loss: 2.584\n",
            "[1,   350] loss: 2.590\n",
            "[1,   360] loss: 2.612\n",
            "[1,   370] loss: 2.610\n",
            "[1,   380] loss: 2.590\n",
            "[1,   390] loss: 2.562\n",
            "[1,   400] loss: 2.610\n",
            "[1,   410] loss: 2.626\n",
            "[1,   420] loss: 2.608\n",
            "[1,   430] loss: 2.568\n",
            "[2,    10] loss: 2.568\n",
            "[2,    20] loss: 2.549\n",
            "[2,    30] loss: 2.587\n",
            "[2,    40] loss: 2.592\n",
            "[2,    50] loss: 2.571\n",
            "[2,    60] loss: 2.536\n",
            "[2,    70] loss: 2.547\n",
            "[2,    80] loss: 2.597\n",
            "[2,    90] loss: 2.564\n",
            "[2,   100] loss: 2.586\n",
            "[2,   110] loss: 2.610\n",
            "[2,   120] loss: 2.577\n",
            "[2,   130] loss: 2.606\n",
            "[2,   140] loss: 2.534\n",
            "[2,   150] loss: 2.628\n",
            "[2,   160] loss: 2.515\n",
            "[2,   170] loss: 2.633\n",
            "[2,   180] loss: 2.567\n",
            "[2,   190] loss: 2.540\n",
            "[2,   200] loss: 2.641\n",
            "[2,   210] loss: 2.573\n",
            "[2,   220] loss: 2.615\n",
            "[2,   230] loss: 2.593\n",
            "[2,   240] loss: 2.571\n",
            "[2,   250] loss: 2.565\n",
            "[2,   260] loss: 2.623\n",
            "[2,   270] loss: 2.594\n",
            "[2,   280] loss: 2.610\n",
            "[2,   290] loss: 2.517\n",
            "[2,   300] loss: 2.557\n",
            "[2,   310] loss: 2.569\n",
            "[2,   320] loss: 2.579\n",
            "[2,   330] loss: 2.581\n",
            "[2,   340] loss: 2.574\n",
            "[2,   350] loss: 2.523\n",
            "[2,   360] loss: 2.519\n",
            "[2,   370] loss: 2.656\n",
            "[2,   380] loss: 2.565\n",
            "[2,   390] loss: 2.608\n",
            "[2,   400] loss: 2.563\n",
            "[2,   410] loss: 2.560\n",
            "[2,   420] loss: 2.601\n",
            "[2,   430] loss: 2.626\n",
            "[3,    10] loss: 2.509\n",
            "[3,    20] loss: 2.604\n",
            "[3,    30] loss: 2.553\n",
            "[3,    40] loss: 2.616\n",
            "[3,    50] loss: 2.606\n",
            "[3,    60] loss: 2.550\n",
            "[3,    70] loss: 2.585\n",
            "[3,    80] loss: 2.537\n",
            "[3,    90] loss: 2.584\n",
            "[3,   100] loss: 2.635\n",
            "[3,   110] loss: 2.615\n",
            "[3,   120] loss: 2.619\n",
            "[3,   130] loss: 2.611\n",
            "[3,   140] loss: 2.585\n",
            "[3,   150] loss: 2.566\n",
            "[3,   160] loss: 2.567\n",
            "[3,   170] loss: 2.550\n",
            "[3,   180] loss: 2.561\n",
            "[3,   190] loss: 2.555\n",
            "[3,   200] loss: 2.519\n",
            "[3,   210] loss: 2.602\n",
            "[3,   220] loss: 2.605\n",
            "[3,   230] loss: 2.586\n",
            "[3,   240] loss: 2.644\n",
            "[3,   250] loss: 2.578\n",
            "[3,   260] loss: 2.579\n",
            "[3,   270] loss: 2.563\n",
            "[3,   280] loss: 2.627\n",
            "[3,   290] loss: 2.580\n",
            "[3,   300] loss: 2.620\n",
            "[3,   310] loss: 2.613\n",
            "[3,   320] loss: 2.548\n",
            "[3,   330] loss: 2.497\n",
            "[3,   340] loss: 2.510\n",
            "[3,   350] loss: 2.605\n",
            "[3,   360] loss: 2.599\n",
            "[3,   370] loss: 2.598\n",
            "[3,   380] loss: 2.533\n",
            "[3,   390] loss: 2.579\n",
            "[3,   400] loss: 2.587\n",
            "[3,   410] loss: 2.514\n",
            "[3,   420] loss: 2.572\n",
            "[3,   430] loss: 2.608\n",
            "[4,    10] loss: 2.537\n",
            "[4,    20] loss: 2.608\n",
            "[4,    30] loss: 2.595\n",
            "[4,    40] loss: 2.585\n",
            "[4,    50] loss: 2.624\n",
            "[4,    60] loss: 2.569\n",
            "[4,    70] loss: 2.583\n",
            "[4,    80] loss: 2.563\n",
            "[4,    90] loss: 2.598\n",
            "[4,   100] loss: 2.581\n",
            "[4,   110] loss: 2.649\n",
            "[4,   120] loss: 2.575\n",
            "[4,   130] loss: 2.553\n",
            "[4,   140] loss: 2.562\n",
            "[4,   150] loss: 2.509\n",
            "[4,   160] loss: 2.605\n",
            "[4,   170] loss: 2.578\n",
            "[4,   180] loss: 2.474\n",
            "[4,   190] loss: 2.575\n",
            "[4,   200] loss: 2.585\n",
            "[4,   210] loss: 2.604\n",
            "[4,   220] loss: 2.480\n",
            "[4,   230] loss: 2.659\n",
            "[4,   240] loss: 2.561\n",
            "[4,   250] loss: 2.541\n",
            "[4,   260] loss: 2.521\n",
            "[4,   270] loss: 2.617\n",
            "[4,   280] loss: 2.540\n",
            "[4,   290] loss: 2.601\n",
            "[4,   300] loss: 2.618\n",
            "[4,   310] loss: 2.580\n",
            "[4,   320] loss: 2.535\n",
            "[4,   330] loss: 2.600\n",
            "[4,   340] loss: 2.529\n",
            "[4,   350] loss: 2.645\n",
            "[4,   360] loss: 2.607\n",
            "[4,   370] loss: 2.611\n",
            "[4,   380] loss: 2.592\n",
            "[4,   390] loss: 2.570\n",
            "[4,   400] loss: 2.547\n",
            "[4,   410] loss: 2.611\n",
            "[4,   420] loss: 2.519\n",
            "[4,   430] loss: 2.585\n",
            "[5,    10] loss: 2.540\n",
            "[5,    20] loss: 2.534\n",
            "[5,    30] loss: 2.594\n",
            "[5,    40] loss: 2.657\n",
            "[5,    50] loss: 2.603\n",
            "[5,    60] loss: 2.535\n",
            "[5,    70] loss: 2.593\n",
            "[5,    80] loss: 2.573\n",
            "[5,    90] loss: 2.597\n",
            "[5,   100] loss: 2.590\n",
            "[5,   110] loss: 2.527\n",
            "[5,   120] loss: 2.655\n",
            "[5,   130] loss: 2.576\n",
            "[5,   140] loss: 2.546\n",
            "[5,   150] loss: 2.659\n",
            "[5,   160] loss: 2.565\n",
            "[5,   170] loss: 2.563\n",
            "[5,   180] loss: 2.638\n",
            "[5,   190] loss: 2.523\n",
            "[5,   200] loss: 2.601\n",
            "[5,   210] loss: 2.527\n",
            "[5,   220] loss: 2.597\n",
            "[5,   230] loss: 2.556\n",
            "[5,   240] loss: 2.532\n",
            "[5,   250] loss: 2.667\n",
            "[5,   260] loss: 2.625\n",
            "[5,   270] loss: 2.591\n",
            "[5,   280] loss: 2.578\n",
            "[5,   290] loss: 2.515\n",
            "[5,   300] loss: 2.575\n",
            "[5,   310] loss: 2.580\n",
            "[5,   320] loss: 2.595\n",
            "[5,   330] loss: 2.626\n",
            "[5,   340] loss: 2.584\n",
            "[5,   350] loss: 2.621\n",
            "[5,   360] loss: 2.540\n",
            "[5,   370] loss: 2.593\n",
            "[5,   380] loss: 2.517\n",
            "[5,   390] loss: 2.575\n",
            "[5,   400] loss: 2.511\n",
            "[5,   410] loss: 2.506\n",
            "[5,   420] loss: 2.643\n",
            "[5,   430] loss: 2.500\n",
            "[6,    10] loss: 2.565\n",
            "[6,    20] loss: 2.600\n",
            "[6,    30] loss: 2.558\n",
            "[6,    40] loss: 2.581\n",
            "[6,    50] loss: 2.548\n"
          ]
        }
      ],
      "source": [
        "losses = []\n",
        "for epoch in range(num_epochs):  # loop over the dataset multiple times\n",
        "\n",
        "    running_loss = 0.0\n",
        "    for i, data in enumerate(trainloader, 0):\n",
        "        # get the inputs; data is a list of [inputs, labels]\n",
        "        inputs, labels = data\n",
        "\n",
        "        inputs = inputs.to(device=device)\n",
        "        labels = labels.to(device=device)\n",
        "        # zero the parameter gradients\n",
        "        optimizer.zero_grad()\n",
        "\n",
        "        # forward + backward + optimize\n",
        "        outputs = model(inputs)    \n",
        "        loss = criterion(outputs, labels)\n",
        "\n",
        "        loss.backward()\n",
        "        optimizer.step()\n",
        "\n",
        "        # print statistics\n",
        "        running_loss += loss.item()\n",
        "        if i % 10 == 9:    # print every 10 mini-batches\n",
        "            print(f'[{epoch + 1}, {i + 1:5d}] loss: {running_loss / 10:.3f}')\n",
        "            losses.append(running_loss)\n",
        "            running_loss = 0.0\n",
        "            \n",
        "\n",
        "print('Finished Training')\n",
        "torch.save(model.state_dict(), \"vgg16_hats.pt\")\n",
        "\n",
        "plt.plot(losses)"
      ],
      "metadata": {
        "pycharm": {
          "name": "#%%\n"
        },
        "id": "5omeHcERDJ-7",
        "outputId": "71e6ba63-8eeb-4f97-f2d5-3a2671b69d81",
        "colab": {
          "base_uri": "https://localhost:8080/"
        }
      }
    },
    {
      "cell_type": "code",
      "execution_count": null,
      "outputs": [],
      "source": [
        "correct = 0\n",
        "total = 0\n",
        "\n",
        "# YOUR CODE HERE\n",
        "# raise NotImplementedError()\n",
        "with torch.no_grad():\n",
        "    for data in testloader:\n",
        "        images, labels = data\n",
        "        images = images.to(device=device)\n",
        "        labels = labels.to(device=device)\n",
        "        # images = images.cuda()\n",
        "        # labels = labels.cuda()\n",
        "        # calculate outputs by running images through the network\n",
        "        outputs = model(images)\n",
        "        # the class with the highest energy is what we choose as prediction\n",
        "        _, predicted = outputs.max(1)\n",
        "        total += labels.size(0)\n",
        "        correct += (predicted == labels).sum().item()\n",
        "        \n",
        "print(f'Accuracy of the model on the validation images: {100 * correct // total} %')"
      ],
      "metadata": {
        "pycharm": {
          "name": "#%%\n"
        },
        "id": "hzCcmILPDJ-8"
      }
    },
    {
      "cell_type": "code",
      "source": [
        "device"
      ],
      "metadata": {
        "id": "y56tfvE1KtY0"
      },
      "execution_count": null,
      "outputs": []
    },
    {
      "cell_type": "code",
      "source": [
        ""
      ],
      "metadata": {
        "id": "5YxPq1pjTrnC"
      },
      "execution_count": null,
      "outputs": []
    }
  ],
  "metadata": {
    "interpreter": {
      "hash": "851433d38881c439cd1aa4ab1f9a2958ccad8ff830098145c1b18d13f5b5af71"
    },
    "kernelspec": {
      "display_name": "Python 3.9.12 ('base')",
      "language": "python",
      "name": "python3"
    },
    "language_info": {
      "codemirror_mode": {
        "name": "ipython",
        "version": 3
      },
      "file_extension": ".py",
      "mimetype": "text/x-python",
      "name": "python",
      "nbconvert_exporter": "python",
      "pygments_lexer": "ipython3",
      "version": "3.9.12"
    },
    "orig_nbformat": 4,
    "colab": {
      "name": "test_vgg.ipynb",
      "provenance": [],
      "collapsed_sections": [],
      "include_colab_link": true
    },
    "accelerator": "GPU"
  },
  "nbformat": 4,
  "nbformat_minor": 0
}